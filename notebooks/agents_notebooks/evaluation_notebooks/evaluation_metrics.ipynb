{
 "cells": [
  {
   "cell_type": "markdown",
   "metadata": {},
   "source": [
    "### Overview\n",
    "Metrics for evaluating the final answer: Price Range + Reason\n",
    "- MAPE + Visualization\n",
    "- Reasoning score: Ask an LLM to give score on the reason\n",
    "\n",
    "Metrics for evaluating the contexts: Retrieved products from databases or the internet\n",
    "- BLEU and ROUGE score: both scores are based word match\n",
    "- Context relevance: Ask an LLM to give a score on how relevant the retrieved products are\n"
   ]
  },
  {
   "cell_type": "code",
   "execution_count": 22,
   "metadata": {},
   "outputs": [],
   "source": [
    "import evaluate\n",
    "import pickle\n",
    "import os\n",
    "import matplotlib.pyplot as plt\n",
    "import numpy as np"
   ]
  },
  {
   "cell_type": "markdown",
   "metadata": {},
   "source": [
    "Each function takes an argument called ```dataset```, which is a dictionary with the form\n",
    "```\n",
    "{\n",
    "    \"test_descriptions\": <list of descriptions of original products>\n",
    "    \"test_prices\": <list of prices of each of the original products>\n",
    "    \"contexts\": <List of List: Each inner list is the list of retrieved products for a particular original products>\n",
    "    \"prices_ranges\": <List of List: Each inner list is price range predicted>\n",
    "    \"agent_responses\": <List of Dicts: Each dictionary has 3 keys: input (optional), output (optional), intermediate_steps (necessary). This is based on the format of Langchain agents>\n",
    "}\n",
    "```\n",
    "Note that if we are not using agent, the ```agent_responses``` key can be excluded\n",
    "\n",
    "For example,\n",
    "```\n",
    "dataset = {\n",
    "    \"test_descriptions\": [\"shirt\", \"shoes\"]\n",
    "    \"test_prices\": [20, 100]\n",
    "    \"contexts\": [[\"shirt1\", \"shirt2\"], [\"shoes1\", \"shoes2\"]]\n",
    "    \"price_ranges\": [[15, 25], [90, 105]]\n",
    "    \"agent_responses\":\n",
    "    [\n",
    "        {\n",
    "            \"input\": \"What is a reasonable price range for shirt?\"\n",
    "            \"output\": \"json{min, max, reason...}\"\n",
    "            \"intermediate_steps\": [AgentAction(...), AgentAction(...)]\n",
    "        },\n",
    "        \n",
    "        {\n",
    "            ...\n",
    "        }\n",
    "    ]\n",
    "}\n",
    "```"
   ]
  },
  {
   "cell_type": "code",
   "execution_count": 23,
   "metadata": {},
   "outputs": [
    {
     "data": {
      "text/plain": [
       "{'test_descriptions': array(['Anti-Theft Courier Saddle Crossbody, Stone, One Size'],\n",
       "       dtype=object),\n",
       " 'test_prices': array([41.8]),\n",
       " 'contexts': [['Anti-Theft Heritage Crossbody Bag',\n",
       "   'Anti-Theft Courier Mini Crossbody, Stone Gray, One Size',\n",
       "   'Anti-Theft Active Medium Crossbody, Charcoal, One Size',\n",
       "   'Anti-Theft Courier Tour Bag, Stone Gray, 11.5 x 11 x 3',\n",
       "   'Anti-theft Heritage Cross Body Bag Cross Body Bag, Sage, 10.5 x 7 x 2']],\n",
       " 'price_ranges': [[33.4, 55.94]],\n",
       " 'agent_responses': [{'input': 'what is a reasonable and accurate price range of product: Anti-Theft Courier Saddle Crossbody, Stone, One Size ',\n",
       "   'output': '```json\\n{\\n\\t\"min_price\": 33.4,\\n\\t\"max_price\": 55.94,\\n\\t\"reason\": \"Based on the prices of similar products found in the text database, the reasonable minimum price for the \\'Anti-Theft Courier Saddle Crossbody, Stone, One Size\\' is $33.4 and the reasonable maximum price is $55.94. These prices were determined by comparing the prices of similar products, such as the \\'Anti-Theft Courier Mini Crossbody, Stone Gray, One Size\\' and the \\'Anti-Theft Courier Tour Bag, Stone Gray, 11.5 x 11 x 3\\'. The prices of these similar products were used to create a price range that accurately reflects the value proposition of the \\'Anti-Theft Courier Saddle Crossbody, Stone, One Size\\'.\"\\n}\\n```</s>',\n",
       "   'intermediate_steps': [(AgentAction(tool='search text db', tool_input='Anti-Theft Courier Saddle Crossbody, Stone, One Size\"\\n\\nObservation', log='To answer this question, I will first search the text database for a product that matches the description \"Anti-Theft Courier Saddle Crossbody, Stone, One Size\". If I cannot find a match, I will then search the internet for the product. Once I have found the product, I will look for similar products and compare their prices to determine a reasonable and accurate price range for the product.\\n\\nAction: search text db\\nAction Input: \"Anti-Theft Courier Saddle Crossbody, Stone, One Size\"\\n\\nObservation'),\n",
       "     '-Anti-Theft Courier Mini Crossbody, Stone Gray, One Size. Price: $33.4\\n\\n-Anti-Theft Active Medium Crossbody, Charcoal, One Size. Price: $49.56\\n\\n-Anti-Theft Courier Tour Bag, Stone Gray, 11.5 x 11 x 3. Price: $55.94\\n\\n-Anti-theft Heritage Cross Body Bag Cross Body Bag, Sage, 10.5 x 7 x 2. Price: $42.1\\n\\n-Anti-Theft Heritage Crossbody Bag. Price: $39.99')]}]}"
      ]
     },
     "execution_count": 23,
     "metadata": {},
     "output_type": "execute_result"
    }
   ],
   "source": [
    "rag_mixtral_dataset = pickle.load(open(\"rag_eval/rag_mixtral_dataset.pkl\", \"rb\"))\n",
    "agent_mixtral_dataset = pickle.load(open(\"rag_eval/agent_mixtral_dataset.pkl\", \"rb\"))\n",
    "\n",
    "{\n",
    "    \"test_descriptions\": agent_mixtral_dataset[\"test_descriptions\"][:1],\n",
    "    \"test_prices\": agent_mixtral_dataset[\"test_prices\"][:1],\n",
    "    \"contexts\": agent_mixtral_dataset[\"contexts\"][:1],\n",
    "    \"price_ranges\": agent_mixtral_dataset[\"price_ranges\"][:1],\n",
    "    \"agent_responses\": agent_mixtral_dataset[\"agent_responses\"][:1],\n",
    "}"
   ]
  },
  {
   "cell_type": "code",
   "execution_count": 24,
   "metadata": {},
   "outputs": [],
   "source": [
    "def plot_percentage_error(dataset, plot_name=\"Percentage Error for each product\"):\n",
    "    predicted_prices = dataset[\"price_ranges\"]\n",
    "    test_prices = dataset[\"test_prices\"]\n",
    "\n",
    "    num_products = len(test_prices)\n",
    "\n",
    "    percentage_errors_lst = []\n",
    "    # Iterate through each product\n",
    "    for i in range(num_products):\n",
    "        percentage_errors = [\n",
    "            (predicted_price - test_prices[i]) / test_prices[i] * 100\n",
    "            for predicted_price in predicted_prices[i]\n",
    "        ]\n",
    "        percentage_errors_lst += percentage_errors\n",
    "        # Use the product index as the x-value for all predictions of this product\n",
    "        x_values = [i for _ in predicted_prices[i]]\n",
    "\n",
    "        # Plot percentage errors for this product\n",
    "        plt.scatter(x_values, percentage_errors, color=\"red\")  # Plotting errors in blue\n",
    "\n",
    "    # Calculate the mean absolute percentage error\n",
    "    mape = np.mean(np.abs(percentage_errors_lst))\n",
    "\n",
    "    set_lim = True\n",
    "    if set_lim:\n",
    "        plt.ylim(-200, 200)\n",
    "        plt.text(\n",
    "            0,\n",
    "            -300,\n",
    "            \"Note: ylim is set to (-200, 200) but some errors may be outside this range\",\n",
    "            fontsize=12,\n",
    "        )\n",
    "\n",
    "    plt.xlabel(\"Product Index\")\n",
    "    plt.ylabel(\"Percentage Error (%)\")\n",
    "    plt.title(plot_name)\n",
    "    plt.axhline(0, color=\"grey\")\n",
    "    plt.axhline(25, color=\"green\", linestyle=\"--\")\n",
    "    plt.axhline(-25, color=\"green\", linestyle=\"--\")\n",
    "\n",
    "    plt.text(\n",
    "        0, -250, \"Mean Absolute Percentage Error: {:.2f}%\".format(mape), fontsize=12\n",
    "    )\n",
    "\n",
    "    plt.gcf().set_size_inches(20, 7)\n",
    "\n",
    "    # plt.savefig('rag_eval/' + plot_name + '.png')\n",
    "\n",
    "    plt.show()\n",
    "\n",
    "    return mape / 100"
   ]
  },
  {
   "cell_type": "markdown",
   "metadata": {},
   "source": [
    "### Mean Absolute Percentage Error (MAPE)"
   ]
  },
  {
   "cell_type": "code",
   "execution_count": 25,
   "metadata": {},
   "outputs": [
    {
     "data": {
      "image/png": "[encoded data removed]",
      "text/plain": [
       "<Figure size 2000x700 with 1 Axes>"
      ]
     },
     "metadata": {},
     "output_type": "display_data"
    },
    {
     "name": "stdout",
     "output_type": "stream",
     "text": [
      "RAG Mixtral Mean Absolute Percentage Error:  0.33206861941001425\n"
     ]
    }
   ],
   "source": [
    "rag_mixtral_mape = plot_percentage_error(\n",
    "    rag_mixtral_dataset, \"RAG Mixtral Percentage Error\"\n",
    ")\n",
    "print(\"RAG Mixtral Mean Absolute Percentage Error: \", rag_mixtral_mape)"
   ]
  },
  {
   "cell_type": "code",
   "execution_count": 26,
   "metadata": {},
   "outputs": [
    {
     "data": {
      "image/png": "[encoded data removed]",
      "text/plain": [
       "<Figure size 2000x700 with 1 Axes>"
      ]
     },
     "metadata": {},
     "output_type": "display_data"
    },
    {
     "name": "stdout",
     "output_type": "stream",
     "text": [
      "Agent Mixtral Mean Absolute Percentage Error:  0.3452354642088752\n"
     ]
    }
   ],
   "source": [
    "agent_mixtral_mape = plot_percentage_error(\n",
    "    agent_mixtral_dataset, \"Agent Mixtral Percentage Error\"\n",
    ")\n",
    "print(\"Agent Mixtral Mean Absolute Percentage Error: \", agent_mixtral_mape)"
   ]
  },
  {
   "cell_type": "markdown",
   "metadata": {},
   "source": [
    "### Reasoning Score"
   ]
  },
  {
   "cell_type": "markdown",
   "metadata": {},
   "source": [
    "Copied and modified from the code of a library called Trulens: https://github.com/truera/trulens. Trulens is a library for evaluating an LLM using the LLM itself.\n\n",
    "Prompt: https://github.com/truera/trulens/blob/main/trulens_eval/trulens_eval/feedback/v2/feedback.py\n\n",
    "Parsing score and supporting evidence: https://github.com/truera/trulens/blob/main/trulens_eval/trulens_eval/feedback/provider/base.py\n\n",
    "Parsing 0-10 integer: https://github.com/truera/trulens/blob/main/trulens_eval/trulens_eval/utils/generated.py"
   ]
  },
  {
   "cell_type": "code",
   "execution_count": 27,
   "metadata": {},
   "outputs": [],
   "source": [
    "from langchain.prompts import PromptTemplate\n",
    "from langchain_community.llms.huggingface_endpoint import HuggingFaceEndpoint\n",
    "from langchain_google_genai import GoogleGenerativeAI\n",
    "\n",
    "# Necessary: Settting up HUGGINGFACEHUB_API_TOKEN.<os.environ[\"HUGGINGFACEHUB_API_TOKEN\"] = \"your-api-token\">, or Settting up GOOGLE_API_KEY.<os.environ[\"GOOGLE_API_KEY\"]\n",
    "\n",
    "# Optional: Settting up LANGCHAIN_API_KEY. <os.environ[\"LANGCHAIN_API_KEY\"] = \"your-api-key\">\n",
    "os.environ[\"LANGCHAIN_PROJECT\"] = \"price-discovery\"\n",
    "os.environ[\"LANGCHAIN_TRACING_V2\"] = \"true\""
   ]
  },
  {
   "cell_type": "code",
   "execution_count": 28,
   "metadata": {},
   "outputs": [],
   "source": [
    "# llm = HuggingFaceEndpoint(\n",
    "#     repo_id=\"mistralai/Mixtral-8x7B-Instruct-v0.1\",\n",
    "#     model_kwargs={\"use_cache\": False},\n",
    "#     # max_new_tokens=1000,\n",
    "# )\n",
    "\n",
    "llm = GoogleGenerativeAI(model=\"gemini-pro\")"
   ]
  },
  {
   "cell_type": "code",
   "execution_count": 29,
   "metadata": {},
   "outputs": [],
   "source": [
    "reasoning_with_cot_reasons_prompt_template = \"\"\"\n",
    "You are a PRICE RANGE EVALUATOR; assessing the appropriateness and reasoning behind a given price range for a product or service.\n",
    "\n",
    "Rate the quality of the PRICE RANGE RESPONSE as well as the PRICE RANGE and INTERMEDIATE STEPS on a scale from 0 to 10, where 0 indicates an extremely poor response \\\n",
    "and 100 indicates an excellent response. Ignore INTERMEDIATE STEPS if they are not provided.\n",
    "\n",
    "Consider the following factors when evaluating:\n",
    "\n",
    "Clarity: Is the provided price range an actual price range?\n",
    "Justification: Are the reasons given for the price range logical and well-explained?\n",
    "Completeness: Does the response cover all relevant factors that could influence pricing?\n",
    "Accuracy: Does the price range seem reasonable and align with market rates based on your knowledge?\n",
    "Level of Detail: Is the reasoning sufficiently detailed or does it oversimplify the pricing factors?\n",
    "Step Validity: Are the intermediate steps taken to arrive at the price range valid and logical?\n",
    "Step Completeness: Do the steps cover all the necessary considerations for determining an appropriate price?\n",
    "\n",
    "\n",
    "A low score (0, 1, 2, or 3) should be given if the response is unclear, lacks justification, the steps are invalid, or the reasoning is blatantly inaccurate.\n",
    "\n",
    "A mid-range score (4,5, 6, or 7) is appropriate if the response provides a reasonable price range with some justification, but the steps are incomplete, \\\n",
    "lack important details or have minor inaccuracies.\n",
    "\n",
    "A high score (8, 9, or 10) should be awarded if the response gives a well-justified and accurate price range, the intermediate steps are valid and complete, \\\n",
    "covering all major pricing factors in a clear and detailed manner.\n",
    "\n",
    "PRICE RANGE RESPONSE: {price_range_response}\n",
    "PRICE_RANGE: {price_range}\n",
    "INTERMEDIATE STEPS: {intermediate_steps}\n",
    "\n",
    "Please answer using the entire template below.\n",
    "\n",
    "TEMPLATE: \n",
    "Score: <The score 0-10 based on the soundness of the reasoning>\n",
    "Supporting Evidence: <Provide a detailed explanation justifying the score based on the criteria listed above, including an evaluation of the \\\n",
    "intermediate steps taken and how they factor into the overall scoring>\n",
    "\"\"\"\n",
    "\n",
    "reasoning_with_cot_reasons_prompt = PromptTemplate.from_template(\n",
    "    reasoning_with_cot_reasons_prompt_template\n",
    ")"
   ]
  },
  {
   "cell_type": "code",
   "execution_count": 30,
   "metadata": {},
   "outputs": [],
   "source": [
    "reasoning_eval_chain = reasoning_with_cot_reasons_prompt | llm"
   ]
  },
  {
   "cell_type": "code",
   "execution_count": 31,
   "metadata": {},
   "outputs": [],
   "source": [
    "# Copied from trulens_eval/trulens_eval/utils/generated.py\n",
    "\"\"\"\n",
    "Utilities for dealing with LLM-generated text.\n",
    "\"\"\"\n",
    "\n",
    "import logging\n",
    "import re\n",
    "import warnings\n",
    "\n",
    "from pydantic import BaseModel\n",
    "from pydantic import field_validator\n",
    "from pydantic import ValidationError\n",
    "\n",
    "logger = logging.getLogger(__name__)\n",
    "\n",
    "\n",
    "class Rating(BaseModel):\n",
    "    rating: int\n",
    "\n",
    "    @field_validator(\"rating\")\n",
    "    def check_rating(cls, v):\n",
    "        if not (0 <= v <= 10):\n",
    "            raise ValueError(\"Rating must be between 0 and 10\")\n",
    "        return v\n",
    "\n",
    "\n",
    "# PATTERN_0_10: re.Pattern = re.compile(r\"\\s*([0-9]+)\\s*$\")\n",
    "PATTERN_0_10: re.Pattern = re.compile(r\"\\b([0-9]|10)(?=\\D*$|\\s*\\.)\")\n",
    "\"\"\"Regex for extracting a 0-10 rating.\n",
    "\n",
    "We are assuming the score will always be the last part of the generated text\n",
    "from LLM - hence we are matching for the last group of digits in the string.\n",
    "\"\"\"\n",
    "\n",
    "\n",
    "def re_0_10_rating(str_val: str) -> int:\n",
    "    \"\"\"Extract 0-10 rating from a string.\n",
    "\n",
    "    If the string does not match, returns -10 instead.\"\"\"\n",
    "\n",
    "    matches = PATTERN_0_10.fullmatch(str_val)\n",
    "    if not matches:\n",
    "        # Try soft match\n",
    "        matches = re.search(r\"([0-9]+)(?=\\D*$)\", str_val)\n",
    "        if not matches:\n",
    "            logger.warning(f\"0-10 rating regex failed to match on: '{str_val}'\")\n",
    "            return -10  # so this will be reported as -1 after division by 10\n",
    "\n",
    "    try:\n",
    "        rating = Rating(rating=int(matches.group()))\n",
    "        return rating.rating\n",
    "    except ValidationError as e:\n",
    "        logger.warning(f\"Validation error: {e}\")\n",
    "        return (\n",
    "            -10\n",
    "        )  # TODO: could consider incorporating re-asking and self-critique here with Instructor https://github.com/jxnl/instructor"
   ]
  },
  {
   "cell_type": "code",
   "execution_count": 32,
   "metadata": {},
   "outputs": [],
   "source": [
    "def parse_llm_response(response, normalize=10.0):\n",
    "    \"\"\"Parse the response from the LLM model\"\"\"\n",
    "\n",
    "    # Copied and modified from trulens_eval/trulens_eval/feedback/provider/base.py\n",
    "    if \"Supporting Evidence\" in response:\n",
    "        score = -1\n",
    "        supporting_evidence = None\n",
    "\n",
    "        for line in response.split(\"\\n\"):\n",
    "            if \"Score\" in line:\n",
    "                score = re_0_10_rating(line) / normalize\n",
    "\n",
    "            supporting_evidence_lines = []\n",
    "            collecting_evidence = False\n",
    "\n",
    "            for line in response.split(\"\\n\"):\n",
    "                if \"Supporting Evidence:\" in line:\n",
    "                    supporting_evidence_lines.append(\n",
    "                        line.split(\"Supporting Evidence:\", 1)[1].strip()\n",
    "                    )\n",
    "                    collecting_evidence = True\n",
    "                elif collecting_evidence:\n",
    "                    supporting_evidence_lines.append(line.strip())\n",
    "\n",
    "            supporting_evidence = \"\\n\".join(supporting_evidence_lines).strip()\n",
    "        return score, supporting_evidence\n",
    "    else:\n",
    "        score = re_0_10_rating(response) / normalize\n",
    "        warnings.warn(\n",
    "            \"No supporting evidence provided. Returning score only.\", UserWarning\n",
    "        )\n",
    "        return score, None"
   ]
  },
  {
   "cell_type": "code",
   "execution_count": 33,
   "metadata": {},
   "outputs": [],
   "source": [
    "def compute_reasoning_score(dataset, eval_chain, is_agent=True, normalize=10):\n",
    "    \"\"\"Calculate the average reasoning score by evaluating the price range response and the intermediate steps\"\"\"\n",
    "\n",
    "    reasoning_sum = 0\n",
    "    count = 0\n",
    "\n",
    "    for i in range(len(dataset[\"test_descriptions\"])):\n",
    "        # print(i)\n",
    "        price_range_response = dataset[\"reasons\"][i]\n",
    "        price_range = dataset[\"price_ranges\"][i]\n",
    "        intermediate_steps = \"Not provided\"\n",
    "        if is_agent:\n",
    "            intermediate_steps = dataset[\"agent_responses\"][i][\"intermediate_steps\"]\n",
    "\n",
    "        num_tries = 0\n",
    "        while num_tries < 5:\n",
    "            response = eval_chain.invoke(\n",
    "                {\n",
    "                    \"price_range_response\": price_range_response,\n",
    "                    \"price_range\": price_range,\n",
    "                    \"intermediate_steps\": intermediate_steps,\n",
    "                }\n",
    "            )\n",
    "\n",
    "            score, supporting_evidence = parse_llm_response(response)\n",
    "\n",
    "            # print(f\"Score: {score}\")\n",
    "            # print(f\"Supporting Evidence: {supporting_evidence}\")\n",
    "\n",
    "            if score == -1:\n",
    "                warnings.warn(\n",
    "                    \"Could not extract a valid score from the response. Try again\",\n",
    "                    UserWarning,\n",
    "                )\n",
    "                num_tries += 1\n",
    "            else:\n",
    "                reasoning_sum += score\n",
    "                count += 1\n",
    "                break\n",
    "\n",
    "    return reasoning_sum / count"
   ]
  },
  {
   "cell_type": "code",
   "execution_count": 34,
   "metadata": {},
   "outputs": [
    {
     "name": "stdout",
     "output_type": "stream",
     "text": [
      "RAG Mixtral Reasoning score:  0.8099999999999999\n"
     ]
    }
   ],
   "source": [
    "rag_mixtral_reasoning_score = compute_reasoning_score(\n",
    "    rag_mixtral_dataset, reasoning_eval_chain, is_agent=False\n",
    ")\n",
    "print(\"RAG Mixtral Reasoning score: \", rag_mixtral_reasoning_score)"
   ]
  },
  {
   "cell_type": "code",
   "execution_count": 35,
   "metadata": {},
   "outputs": [
    {
     "name": "stdout",
     "output_type": "stream",
     "text": [
      "Agent Mixtral Reasoning score:  0.8800000000000001\n"
     ]
    }
   ],
   "source": [
    "agent_mixtral_reasoning_score = compute_reasoning_score(\n",
    "    agent_mixtral_dataset, reasoning_eval_chain, is_agent=True\n",
    ")\n",
    "print(\"Agent Mixtral Reasoning score: \", agent_mixtral_reasoning_score)"
   ]
  },
  {
   "cell_type": "markdown",
   "metadata": {},
   "source": [
    "### ROUGE score\n",
    "A video on ROUGE: https://www.youtube.com/watch?v=TMshhnrEXlg "
   ]
  },
  {
   "cell_type": "code",
   "execution_count": 36,
   "metadata": {},
   "outputs": [
    {
     "data": {
      "text/plain": [
       "{'rouge1': [0.6666666666666666],\n",
       " 'rouge2': [0.2],\n",
       " 'rougeL': [0.6666666666666666],\n",
       " 'rougeLsum': [0.6666666666666666]}"
      ]
     },
     "execution_count": 36,
     "metadata": {},
     "output_type": "execute_result"
    }
   ],
   "source": [
    "# pip install rouge_score\n",
    "rouge = evaluate.load(\"rouge\")\n",
    "rouge.compute(\n",
    "    predictions=[rag_mixtral_dataset[\"contexts\"][1][0]],\n",
    "    references=[rag_mixtral_dataset[\"test_descriptions\"][1]],\n",
    "    use_aggregator=False,\n",
    ")"
   ]
  },
  {
   "cell_type": "code",
   "execution_count": 37,
   "metadata": {},
   "outputs": [],
   "source": [
    "def compute_rouge_score(dataset):\n",
    "    \"\"\"Calculate the average between ROUGE-1, ROUGE-2, and ROUGE-L\"\"\"\n",
    "\n",
    "    rouge = evaluate.load(\"rouge\")\n",
    "    rouge_sum = 0\n",
    "    count = 0\n",
    "    for i in range(len(dataset[\"test_descriptions\"])):\n",
    "        for j in range(len(dataset[\"contexts\"][i])):\n",
    "            rouge_scores = rouge.compute(\n",
    "                predictions=[dataset[\"contexts\"][i][j]],\n",
    "                references=[dataset[\"test_descriptions\"][i]],\n",
    "                rouge_types=[\"rouge1\", \"rouge2\", \"rougeL\"],\n",
    "                use_aggregator=True,\n",
    "            )\n",
    "            rouge_sum += (\n",
    "                rouge_scores[\"rouge1\"] + rouge_scores[\"rouge2\"] + rouge_scores[\"rougeL\"]\n",
    "            ) / 3\n",
    "            count += 1\n",
    "\n",
    "    return rouge_sum / count"
   ]
  },
  {
   "cell_type": "code",
   "execution_count": 38,
   "metadata": {},
   "outputs": [
    {
     "name": "stdout",
     "output_type": "stream",
     "text": [
      "Rag Mixtral ROUGE score:  0.42562662269581325\n",
      "Agent Mixtral ROUGE score:  0.4442534820733016\n"
     ]
    }
   ],
   "source": [
    "print(\"Rag Mixtral ROUGE score: \", compute_rouge_score(rag_mixtral_dataset))\n",
    "print(\"Agent Mixtral ROUGE score: \", compute_rouge_score(agent_mixtral_dataset))"
   ]
  },
  {
   "cell_type": "markdown",
   "metadata": {},
   "source": [
    "### BLEU score\n",
    "\n",
    "A video on BLEU score: https://www.youtube.com/watch?v=M05L1DhFqcw"
   ]
  },
  {
   "cell_type": "code",
   "execution_count": 39,
   "metadata": {},
   "outputs": [
    {
     "data": {
      "text/plain": [
       "{'bleu': 0.0,\n",
       " 'precisions': [0.75, 0.0, 0.0, 0.0],\n",
       " 'brevity_penalty': 0.6065306597126334,\n",
       " 'length_ratio': 0.6666666666666666,\n",
       " 'translation_length': 4,\n",
       " 'reference_length': 6}"
      ]
     },
     "execution_count": 39,
     "metadata": {},
     "output_type": "execute_result"
    }
   ],
   "source": [
    "bleu = evaluate.load(\"bleu\")\n",
    "bleu.compute(\n",
    "    predictions=[rag_mixtral_dataset[\"contexts\"][1][0]],\n",
    "    references=[rag_mixtral_dataset[\"test_descriptions\"][1]],\n",
    ")"
   ]
  },
  {
   "cell_type": "code",
   "execution_count": 40,
   "metadata": {},
   "outputs": [],
   "source": [
    "def compute_bleu_score(dataset):\n",
    "    \"\"\"Calculate the average between precision at 1-gram, 2-gram, 3-gram, and 4-gram\"\"\"\n",
    "\n",
    "    bleu = evaluate.load(\"bleu\")\n",
    "    bleu_sum = 0\n",
    "    count = 0\n",
    "    for i in range(len(dataset[\"test_descriptions\"])):\n",
    "        for j in range(len(dataset[\"contexts\"][i])):\n",
    "            bleu_scores = bleu.compute(\n",
    "                predictions=[dataset[\"contexts\"][i][j]],\n",
    "                references=[dataset[\"test_descriptions\"][i]],\n",
    "            )\n",
    "            bleu_sum += sum(bleu_scores[\"precisions\"]) / len(bleu_scores[\"precisions\"])\n",
    "            count += 1\n",
    "\n",
    "    return bleu_sum / count"
   ]
  },
  {
   "cell_type": "code",
   "execution_count": 41,
   "metadata": {},
   "outputs": [
    {
     "name": "stdout",
     "output_type": "stream",
     "text": [
      "RAG Mixtral BLEU score:  0.22402772813547336\n",
      "Agent Mixtral BLEU score:  0.2504212338108835\n"
     ]
    }
   ],
   "source": [
    "print(\"RAG Mixtral BLEU score: \", compute_bleu_score(rag_mixtral_dataset))\n",
    "print(\"Agent Mixtral BLEU score: \", compute_bleu_score(agent_mixtral_dataset))"
   ]
  },
  {
   "cell_type": "markdown",
   "metadata": {},
   "source": [
    "### Context Relevance score"
   ]
  },
  {
   "cell_type": "code",
   "execution_count": 42,
   "metadata": {},
   "outputs": [],
   "source": [
    "# Modified from the original prompt in ContextRelevance class in trulens_eval/trulens_eval/feedback/v2/feedback.py\n",
    "context_relevance_with_cot_reasons_prompt_template = \"\"\"\n",
    "You are a PRODUCT RELEVANCE evaluator; assessing the relevance of the RETRIEVED PRODUCT to the ORIGINAL PRODUCT based on detailed criteria.\n",
    "\n",
    "Rate the relevance on a scale from 0 to 10, where 0 signifies no relevance and 10 indicates perfect relevance.\n",
    "\n",
    "A few additional evaluation guidelines:\n",
    "\n",
    "- The length of the PRODUCT DESCRIPTIONS should not affect the score.\n",
    "\n",
    "- The RELEVANCE score should increase as the RETRIEVED PRODUCT shares more similarities with the ORIGINAL PRODUCT in terms of:\n",
    "\n",
    "    - Product Type: Both products belong to the same category (e.g., both are T-shirts, both are watches).\n",
    "    - Functionality: Both products serve the primary use in a similar way (e.g., running shoes vs. casual shoes).\n",
    "    - Target Users: Both products are intended for the same gender, age group, etc.\n",
    "    - Style: Both products share a similar design, color scheme, etc.\n",
    "    - Material: Both products are made from similar materials.\n",
    "    - Brand: Both products are from the same manufacturer or brand.\n",
    "\n",
    "- A RETRIEVED PRODUCT that matches only a few aspects of the ORIGINAL PRODUCT should receive a score of 2, 3, or 4. A higher score within this range indicates a greater degree of relevance.\n",
    "\n",
    "- A RETRIEVED PRODUCT that matches many aspects of the ORIGINAL PRODUCT should receive a score of 5, 6, 7, or 8. A higher score within this range indicates a greater degree of relevance.\n",
    "\n",
    "- A RETRIEVED PRODUCT that matches almost all aspects of the ORIGINAL PRODUCT should receive a score of 9 or 10, with 10 reserved for products that are highly relevant and comparable to the ORIGINAL PRODUCT in terms of the listed evaluation factors.\n",
    "\n",
    "- Never elaborate.\n",
    "\n",
    "ORIGINAL PRODUCT: {original_product}\n",
    "\n",
    "RETRIEVED PRODUCT: {context_product}\n",
    "\n",
    "RELEVANCE:\n",
    "\n",
    "Please answer using the entire template below.\n",
    "\n",
    "TEMPLATE: \n",
    "Score: <The score 0-10 based on the relevance>\n",
    "Supporting Evidence: <Provide your reasons for scoring based on the listed criteria step by step. Tie it back to the comparison being completed>\n",
    "\"\"\"\n",
    "\n",
    "context_relevance_with_cot_reasons_prompt = PromptTemplate.from_template(\n",
    "    context_relevance_with_cot_reasons_prompt_template\n",
    ")"
   ]
  },
  {
   "cell_type": "code",
   "execution_count": 43,
   "metadata": {},
   "outputs": [],
   "source": [
    "context_relevance_eval_chain = context_relevance_with_cot_reasons_prompt | llm\n",
    "\n",
    "# response = eval_chain.invoke({\"original_product\": filter_rag_dataset[\"test_descriptions\"][0], \"context_product\": filter_rag_dataset[\"test_descriptions\"][0]})\n",
    "# print(response)"
   ]
  },
  {
   "cell_type": "code",
   "execution_count": 44,
   "metadata": {},
   "outputs": [],
   "source": [
    "def compute_context_relevance_score(dataset, eval_chain, normalize=10):\n",
    "    \"\"\"Calculate the average relevance score by comparing the original product with the context product\"\"\"\n",
    "\n",
    "    relevance_sum = 0\n",
    "    count = 0\n",
    "    for i in range(len(dataset[\"test_descriptions\"])):\n",
    "        for j in range(len(dataset[\"contexts\"][i])):\n",
    "            original_product = dataset[\"test_descriptions\"][i]\n",
    "            context_product = dataset[\"contexts\"][i][j]\n",
    "            # print(f\"{count}. {original_product} vs {context_product}\")\n",
    "\n",
    "            num_tries = 0\n",
    "            while num_tries < 5:\n",
    "                response = eval_chain.invoke(\n",
    "                    {\n",
    "                        \"original_product\": original_product,\n",
    "                        \"context_product\": context_product,\n",
    "                    }\n",
    "                )\n",
    "\n",
    "                score, supporting_evidence = parse_llm_response(response)\n",
    "\n",
    "                # print(f\"Score: {score}\")\n",
    "                # print(f\"Supporting Evidence: {supporting_evidence}\")\n",
    "\n",
    "                if score == -1:\n",
    "                    warnings.warn(\n",
    "                        \"Could not extract a valid score from the response. Try again\",\n",
    "                        UserWarning,\n",
    "                    )\n",
    "                    num_tries += 1\n",
    "                else:\n",
    "                    relevance_sum += score\n",
    "                    count += 1\n",
    "                    break\n",
    "\n",
    "    return relevance_sum / count"
   ]
  },
  {
   "cell_type": "code",
   "execution_count": 45,
   "metadata": {},
   "outputs": [
    {
     "name": "stdout",
     "output_type": "stream",
     "text": [
      "RAG Mixtral Context Relevance score:  0.8219999999999995\n"
     ]
    }
   ],
   "source": [
    "rag_mixtral_relevance_score = compute_context_relevance_score(\n",
    "    rag_mixtral_dataset, context_relevance_eval_chain\n",
    ")\n",
    "print(\"RAG Mixtral Context Relevance score: \", rag_mixtral_relevance_score)"
   ]
  },
  {
   "cell_type": "code",
   "execution_count": 46,
   "metadata": {},
   "outputs": [
    {
     "name": "stdout",
     "output_type": "stream",
     "text": [
      "Agent Mixtral Context Relevance score:  0.8466666666666661\n"
     ]
    }
   ],
   "source": [
    "agent_mixtral_relevance_score = compute_context_relevance_score(\n",
    "    agent_mixtral_dataset, context_relevance_eval_chain\n",
    ")\n",
    "print(\"Agent Mixtral Context Relevance score: \", agent_mixtral_relevance_score)"
   ]
  }
 ],
 "metadata": {
  "kernelspec": {
   "display_name": "base",
   "language": "python",
   "name": "python3"
  },
  "language_info": {
   "codemirror_mode": {
    "name": "ipython",
    "version": 3
   },
   "file_extension": ".py",
   "mimetype": "text/x-python",
   "name": "python",
   "nbconvert_exporter": "python",
   "pygments_lexer": "ipython3",
   "version": "3.11.5"
  }
 },
 "nbformat": 4,
 "nbformat_minor": 2
}
