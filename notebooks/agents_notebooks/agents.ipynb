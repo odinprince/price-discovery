{
 "cells": [
  {
   "cell_type": "markdown",
   "metadata": {},
   "source": [
    "# Price Discovery Project Using Agents\n",
    "\n",
    "This is a notebook that contains the experimentation of prioce discovery using agents."
   ]
  },
  {
   "cell_type": "markdown",
   "metadata": {},
   "source": [
    "## Import Libraries"
   ]
  },
  {
   "cell_type": "code",
   "execution_count": 31,
   "metadata": {},
   "outputs": [],
   "source": [
    "import os\n",
    "import re\n",
    "import json\n",
    "from typing import Any, Union\n",
    "\n",
    "\n",
    "import PIL\n",
    "from dotenv import load_dotenv\n",
    "\n",
    "\n",
    "from qdrant_client import QdrantClient\n",
    "from langchain_community.embeddings import HuggingFaceEmbeddings\n",
    "from langchain.agents import AgentExecutor, Tool, create_react_agent\n",
    "from langchain.agents.agent import AgentAction\n",
    "from langchain_core.callbacks.base import BaseCallbackHandler\n",
    "from langchain_core.messages import HumanMessage\n",
    "from langchain_community.llms import HuggingFaceEndpoint\n",
    "from langchain_community.utilities import SerpAPIWrapper\n",
    "from langchain_community.vectorstores import Chroma, Qdrant\n",
    "from langchain_experimental.open_clip import OpenCLIPEmbeddings\n",
    "from langchain_google_genai import ChatGoogleGenerativeAI\n",
    "from langchain.prompts import PromptTemplate\n",
    "from langchain.tools.retriever import create_retriever_tool\n",
    "from langchain_core.output_parsers import JsonOutputParser\n",
    "from typing import Any, Optional, Type\n",
    "from langchain.callbacks.manager import (\n",
    "    CallbackManagerForToolRun,\n",
    ")\n",
    "from langchain.pydantic_v1 import BaseModel, Field\n",
    "from langchain.tools import BaseTool"
   ]
  },
  {
   "cell_type": "markdown",
   "metadata": {},
   "source": [
    "## Specify Variables"
   ]
  },
  {
   "cell_type": "code",
   "execution_count": 2,
   "metadata": {},
   "outputs": [],
   "source": [
    "# Load environment variables. Uncomment\n",
    "load_dotenv()\n",
    "\n",
    "# Specify variables\n",
    "model_name = \"ViT-B-32\"\n",
    "checkpoint = \"openai\"\n",
    "embedding_model = OpenCLIPEmbeddings(model_name=model_name, checkpoint=checkpoint)\n",
    "\n",
    "# db_dir = \"db\""
   ]
  },
  {
   "cell_type": "markdown",
   "metadata": {},
   "source": [
    "If you want to use a local database, uncomment `db_dir` "
   ]
  },
  {
   "cell_type": "markdown",
   "metadata": {},
   "source": [
    "## Create Vector DB to store data"
   ]
  },
  {
   "cell_type": "markdown",
   "metadata": {},
   "source": [
    "**In the case of creating a new db locally**"
   ]
  },
  {
   "cell_type": "code",
   "execution_count": 3,
   "metadata": {},
   "outputs": [],
   "source": [
    "# Instantiate DB\n",
    "# text_db = Chroma(persist_directory=db_dir, embedding_function=embedding_model, collection_name=\"apparel-collection\")\n",
    "# images_db = Chroma(persist_directory=db_dir, embedding_function=embedding_model, collection_name=\"img-collection\")"
   ]
  },
  {
   "cell_type": "markdown",
   "metadata": {},
   "source": [
    "Then add data to the dbs. Utilize the directory loaders for this\n",
    "\n",
    "An example is shown below:\n",
    "```python\n",
    "from langchain_community.document_loaders.csv_loader import CSVLoader\n",
    "from langchain_community.document_loaders import DirectoryLoader\n",
    "\n",
    "text_loader = CSVLoader(file_path=\"./example_data.csv\")\n",
    "\n",
    "text_data = text_loader.load()\n",
    "\n",
    "image_loader = DirectoryLoader('folder_with_images', glob=\"**/*.jpg\", show_progress=True)\n",
    "image_data = loader.load()\n",
    "```\n",
    "\n",
    "for reference on the [csv reader](https://python.langchain.com/docs/integrations/document_loaders/csv)\n",
    "\n",
    "for reference on the [file directory reader](https://python.langchain.com/docs/modules/data_connection/document_loaders/file_directory)"
   ]
  },
  {
   "cell_type": "code",
   "execution_count": 4,
   "metadata": {},
   "outputs": [],
   "source": [
    "# Add data to db\n",
    "\n",
    "# text_db.add_documents(text_data)\n",
    "# images_db.add_images(image_data)"
   ]
  },
  {
   "cell_type": "markdown",
   "metadata": {},
   "source": [
    "**If DB is already initialized**"
   ]
  },
  {
   "cell_type": "code",
   "execution_count": 26,
   "metadata": {},
   "outputs": [],
   "source": [
    "# Instantiate DB: Change the persistent directory to the location of your database\n",
    "# text_db = Chroma(persist_directory=\"../data/databases/text_db\", embedding_function=embedding_model, collection_name=\"Text_Store\")\n",
    "# images_db = Chroma(persist_directory=\"../data/databases/images_db\", embedding_function=embedding_model, collection_name=\"Image_Store\")"
   ]
  },
  {
   "cell_type": "markdown",
   "metadata": {},
   "source": [
    "**Using Qdrant DataBase on Cloud**"
   ]
  },
  {
   "cell_type": "code",
   "execution_count": 3,
   "metadata": {},
   "outputs": [],
   "source": [
    "# Instantiate Client Variables\n",
    "server_url = (\n",
    "    \"https://1883d972-3d1a-4e6d-a846-86b9952741cd.us-east4-0.gcp.cloud.qdrant.io/:6333\"\n",
    ")\n",
    "qdrant_api_key = os.getenv(\"VECTORSTORE_API_KEY\")"
   ]
  },
  {
   "cell_type": "code",
   "execution_count": 4,
   "metadata": {},
   "outputs": [],
   "source": [
    "# Instantiate client\n",
    "client = QdrantClient(server_url, api_key=qdrant_api_key)"
   ]
  },
  {
   "cell_type": "code",
   "execution_count": 39,
   "metadata": {},
   "outputs": [],
   "source": [
    "# Create sample vector\n",
    "query_vector = embedding_model.embed_query(\n",
    "    \"Women's Lightweight Open-Front Cardigan Sweater\"\n",
    ")"
   ]
  },
  {
   "cell_type": "code",
   "execution_count": 41,
   "metadata": {},
   "outputs": [
    {
     "data": {
      "text/plain": [
       "[ScoredPoint(id='6a4bc5ca-7b13-433b-bac0-fab3c062e605', version=1428, score=0.9728498, payload={'Price': 28.5, 'asin': 'B07F2KS15P', 'title': \"Women's Lightweight Open-Front Cardigan Sweater (Available in Plus Size)\"}, vector=None, shard_key=None),\n",
       " ScoredPoint(id='2b327dd4-ab06-4979-95a4-213368813589', version=1479, score=0.9597698, payload={'Price': 24.72, 'asin': 'B07F28R9FW', 'title': \"Women's Lightweight Longer Length Cardigan Sweater (Available in Plus Size)\"}, vector=None, shard_key=None)]"
      ]
     },
     "execution_count": 41,
     "metadata": {},
     "output_type": "execute_result"
    }
   ],
   "source": [
    "# Do a search to see if the vector db has been instantialized\n",
    "client.search(\"apparel-collection\", query_vector=query_vector, limit=2)"
   ]
  },
  {
   "cell_type": "markdown",
   "metadata": {},
   "source": [
    "**If you want to create a new db remotely**\n",
    "\n",
    "Refer to this [documentation](https://python.langchain.com/docs/integrations/vectorstores/qdrant) for more information: "
   ]
  },
  {
   "cell_type": "markdown",
   "metadata": {},
   "source": [
    "## Create agent for retrieval"
   ]
  },
  {
   "cell_type": "markdown",
   "metadata": {},
   "source": [
    "**Create Retriever from local database**"
   ]
  },
  {
   "cell_type": "code",
   "execution_count": 72,
   "metadata": {},
   "outputs": [],
   "source": [
    "# Instantiate retrievers from db: This is for local DBs\n",
    "\n",
    "# text_retriever = text_db.as_retriever()\n",
    "# images_retriever = images_db.as_retriever()"
   ]
  },
  {
   "cell_type": "code",
   "execution_count": 28,
   "metadata": {},
   "outputs": [
    {
     "data": {
      "text/plain": [
       "[Document(page_content=\"Men's Superlite Stripe 3 No Show Socks (3-Pair)\", metadata={'price': '12.52'}),\n",
       " Document(page_content='Nike 3-pk Dri-fit Cushioned Crew Socks for MEN', metadata={'price': '39.5'}),\n",
       " Document(page_content='Nike Mens 3-Pack Jordan Jumpman No-Show Socks', metadata={'price': '33'}),\n",
       " Document(page_content=\"Men's Classic Trefoil Superlite No Show Socks (6-Pair)\", metadata={'price': '10'})]"
      ]
     },
     "execution_count": 28,
     "metadata": {},
     "output_type": "execute_result"
    }
   ],
   "source": [
    "# text_retriever.get_relevant_documents(\"heels for women\")"
   ]
  },
  {
   "cell_type": "markdown",
   "metadata": {},
   "source": [
    "**Instatiate the llms**"
   ]
  },
  {
   "cell_type": "code",
   "execution_count": 5,
   "metadata": {},
   "outputs": [
    {
     "name": "stdout",
     "output_type": "stream",
     "text": [
      "Token has not been saved to git credential helper. Pass `add_to_git_credential=True` if you want to set the git credential as well.\n",
      "Token is valid (permission: read).\n",
      "Your token has been saved to C:\\Users\\Spectra\\.cache\\huggingface\\token\n",
      "Login successful\n"
     ]
    }
   ],
   "source": [
    "# Mixtral\n",
    "\n",
    "repo_id = \"mistralai/Mixtral-8x7B-Instruct-v0.1\"\n",
    "\n",
    "mixtral = HuggingFaceEndpoint(repo_id=repo_id, temperature=0.3)"
   ]
  },
  {
   "cell_type": "code",
   "execution_count": 32,
   "metadata": {},
   "outputs": [],
   "source": [
    "# Setup google api for gemini\n",
    "GOOGLE_API_KEY = os.getenv(\"GOOGLE_API_KEY\")\n",
    "\n",
    "gemini = ChatGoogleGenerativeAI(\n",
    "    model=\"gemini-pro\", google_api_key=GOOGLE_API_KEY, temperature=0\n",
    ")\n",
    "gemini_vision = ChatGoogleGenerativeAI(\n",
    "    model=\"gemini-pro-vision\", google_api_key=GOOGLE_API_KEY, temperature=0.1\n",
    ")"
   ]
  },
  {
   "cell_type": "markdown",
   "metadata": {},
   "source": [
    "**Instantiate prompts**"
   ]
  },
  {
   "cell_type": "code",
   "execution_count": 7,
   "metadata": {},
   "outputs": [],
   "source": [
    "# Create prompts\n",
    "test_prompt = \"\"\"\n",
    "    \n",
    "As an experienced product analyst adept at accurately determining product price ranges,utilize the available tools {tools} to answer the question asked. \n",
    "Return ONLY a reasonable, accurate and concise price range for my product after analysing its current pricing\n",
    "and that of a similar products. \n",
    "\n",
    "    Use the following format:\n",
    "\n",
    "    Question: the input question you must answer\n",
    "    Thought: you should always think about what to do\n",
    "    Action: the action to take, should be one of [{tool_names}]\n",
    "    Action Input: the input to the action\n",
    "    Observation: the result of the action\n",
    "    ... (this Thought/Action/Action Input/Observation can repeat N times). If no result is found use your own knowledge\n",
    "    Thought: I now know the final answer\n",
    "    Final Answer: the final answer to the original input question\n",
    "\n",
    "    Begin!\n",
    "\n",
    "    Question: {input}\n",
    "    Thought: {agent_scratchpad}\n",
    "\"\"\"\n",
    "\n",
    "test_prompt_one = \"\"\"    \n",
    "As an experienced product analyst adept at accurately determining product price ranges, utilize ALL the available tools {tools} to answer the question asked accurately. \n",
    "Check whether the product is in the database, then search the internet and compare the prices.\n",
    "If a tool encounters an error, use another tool.\n",
    "Return ONLY a reasonable and accurate  PRICE RANGE for the product.\n",
    "Use the following format:\n",
    "\n",
    "Question: the input question you must answer.\n",
    "Thought: you should always think about what to do. \n",
    "Action: the action to take, should be ONE of or ALL of [{tool_names}]. \n",
    "Action Input: the input to the action. It SHOULD be a string.\n",
    "Action: choose another tool if a tool fails or handle its error.\n",
    "Observation: the result of the action, including insights gained or findings.\n",
    "... (this Thought/Action/Action Input/Observation can repeat N times). If no result is found, use your own knowledge.\n",
    "Thought: I now know the final answer that is based on the analysis of your findings and observations.\n",
    "Final Answer: the final answer to the original input question, which must be as accurate as possible. NEVER say you can't answer.\n",
    "\n",
    "Begin!\n",
    "\n",
    "Question: {input}\n",
    "Thought: {agent_scratchpad}\n",
    "\n",
    "\"\"\"\n",
    "\n",
    "test_prompt_two = \"\"\"\n",
    "\n",
    "As an experienced product analyst proficient in determining accurate product price ranges, utilize all available tools {tools}, including internet searches and databases,\n",
    "to precisely answer the given question. Begin by checking the database, then proceed to search the internet.Then pick the most similar products and use them to come up with an accurate price range.\n",
    "Similar products are those with closely matching specifications based on product information and brand. \n",
    "Based on this comparison, generate a highly accurate, reasonable, and compact estimate of the price range for the product\n",
    "If a tool encounters an error, use another tool.\n",
    "Return ONLY the ESTIMATE of the PRICE RANGE for the product. An example being $100-110 with the price of the product being $106\n",
    "\n",
    "Use the following format:\n",
    "Question: the input question you must answer.\n",
    "Thought: you should always think about what to do. \n",
    "Action: the action to take, should be ONE of[{tool_names}]. \n",
    "Action Input: the input to the action. It SHOULD be a string.\n",
    "Action: choose another tool if a tool fails or handle its error.\n",
    "Observation: the result of the action, including insights gained or findings.\n",
    "... (this Thought/Action/Action Input/Observation can repeat N times). If no result is found, use your own knowledge.\n",
    "Thought: I now know the final answer that is based on the analysis of your findings and observations.\n",
    "Final Answer: the final answer to the original input question, which must be as accurate as possible. NEVER say you can't answer.\n",
    "\n",
    "An example to follow is:\n",
    "\n",
    "Question: what is the estimated, accurate and compact price range of a Sony WH-CH520 Wireless Headphones Bluetooth On-Ear Headset with Microphone, Black New?\n",
    "Thought 1: I need to search for the Sony WH-CH520 Wireless Headphones to identify their price range.\n",
    "Action 1: search text db\n",
    "Action Input 1: : Sony WH-CH520 Wireless Headphones.\n",
    "Observation 1: The search results providing various listings for products similar to the Sony WH-CH520 Wireless Headphones with different prices.\n",
    "Action 2: search internet \n",
    "Action Input 2: Sony WH-CH520 Wireless Headphones Bluetooth On-Ear Headset with Microphone.\n",
    "Observation 2: The search results provide various listings for the Sony WH-CH520 Wireless Headphones with different prices.\n",
    "Thought 3: I need to check the obtained products for similarity.\n",
    "Action 3: The products with great similarity to the Sony WH-CH520 Wireless Headphones are chosen.\n",
    "Thought 4: I need to gather information on the range of prices offered for these headphones.\n",
    "Action 4: Compare and analyze the search results to determine the price range.\n",
    "Observation 4: Prices for the Sony WH-CH520 Wireless Headphones range from $80 to $100 across different retailers and platforms, based on comparing to very similar products with similar specifications and brand.\n",
    "Thought 5: The price range of the Sony WH-CH520 Wireless Headphones is between $80 and $100.\n",
    "Final Answer: $80 - $100\n",
    "\n",
    "\n",
    "Begin!\n",
    "\n",
    "Question: {input}\n",
    "Thought: {agent_scratchpad}\n",
    "\"\"\"\n",
    "\n",
    "test_prompt_three = \"\"\"\n",
    "As an experienced product analyst proficient in determining accurate product price ranges, utilize all available tools {tools}, including internet searches and databases,\n",
    "to precisely answer the given question. Begin by checking the database, then proceed to search the internet.Then pick the most similar products and use them to come up with an accurate price range.\n",
    "Similar products are those with closely matching specifications based on product information and brand. \n",
    "Based on this comparison, generate a highly accurate, reasonable, and compact estimate of the price range for the product\n",
    "If a tool encounters an error, use another tool.\n",
    "Return ONLY the ESTIMATE of the PRICE RANGE for the product. An example being $100-$110 with the price of the product being $106. It SHOULD be in the JSON format with the key being \"price_range\": \n",
    "Use the following format:\n",
    "\n",
    "Question: the input question you must answer.\n",
    "Thought: you should always think about what to do. \n",
    "Action: the action to take, should be ONE of or ALL of [{tool_names}]. \n",
    "Action Input: the input to the action. It SHOULD be a string.\n",
    "Action: choose another tool if a tool fails or handle its error.\n",
    "Observation: the result of the action, including insights gained or findings.\n",
    "... (this Thought/Action/Action Input/Observation can repeat N times). If no result is found, use your own knowledge.\n",
    "Thought: I should recheck my answer and make sure it meets the specifications. If not, try again before coming up with the final answer.\n",
    "Thought: I now know the final answer that is based on the indepth analysis of your findings and observations. \n",
    "Final Answer: the final answer to the original input question, which must be as accurate and compact as possible. NEVER say you can't answer. \n",
    "Begin!\n",
    "\n",
    "Question: {input}\n",
    "Thought: {agent_scratchpad}\n",
    "\n",
    "\"\"\"\n",
    "\n",
    "test_prompt_four = \"\"\"\n",
    "\n",
    "Given the product description and the product image,  utilize all available tools {tools}, including internet searches and databases,\n",
    "to precisely answer the given question. \n",
    "Begin by checking the database, then proceed to search the internet.Then pick the most similar products and use them to come up with an accurate price range.\n",
    "Similar products are those with closely matching specifications based on product information and brand. \n",
    "Based on this comparison, generate a highly accurate, reasonable, and compact estimate of the price range for the product\n",
    "If a tool encounters an error, use another tool.\n",
    "Return ONLY the ESTIMATE of the PRICE RANGE for the product. An example being $100-110 with the price of the product being $106\n",
    "\n",
    "\n",
    "Use the following format:\n",
    "\n",
    "Question: the input question you must answer.\n",
    "Thought: you should always think about what to do. \n",
    "Action: the action to take, should be ONE of or ALL of [{tool_names}]. \n",
    "Action Input: the input to the action. It SHOULD be a string.\n",
    "Action: choose another tool if a tool fails or handle its error.\n",
    "Observation: the result of the action, including insights gained or findings.\n",
    "... (this Thought/Action/Action Input/Observation can repeat N times). If no result is found, use your own knowledge.\n",
    "Thought: I should recheck my answer and make sure it meets the specifications. If not, try again before coming up with the final answer.\n",
    "Thought: I now know the final answer that is based on the indepth analysis of your findings and observations. \n",
    "Final Answer: the final answer to the original input question, which must be as accurate and compact as possible. NEVER say you can't answer.\n",
    "\n",
    "Begin!\n",
    "\n",
    "Question: {input} \n",
    "Image: {image}\n",
    "Thought: {agent_scratchpad}\n",
    "\n",
    "\"\"\"\n",
    "\n",
    "test_prompt_five = \"\"\"\n",
    "As an experienced product analyst proficient in determining accurate product price ranges, utilize all available tools {tools}, including internet searches and databases, to precisely answer the given question.\n",
    "Begin by checking the database, then proceed to search the internet. \n",
    "Then pick the most similar products and use them to come up with an accurate price range. \n",
    "Similar products are those with closely matching specifications based on product information and brand.\n",
    "Based on this comparison, generate a highly accurate, reasonable, and compact estimate of the price range for the product. If a tool encounters an error, use another tool.\n",
    "\n",
    "Return ONLY the ESTIMATE of the PRICE RANGE for the product. The price range should be in the JSON format with the key being \"price_range\" and the value being a price range.  Example: \"price_range\": \"$100-$110\"\n",
    "\n",
    "Use the following format:\n",
    "\n",
    "Question: the input question you must answer.\n",
    "Thought: you should always think about what to do. \n",
    "Action: the action to take, should be ONE of or ALL of [{tool_names}]. \n",
    "Action Input: the input to the action. It SHOULD be a string.\n",
    "Action: choose another tool if a tool fails or handle its error.\n",
    "Observation: the result of the action, including insights gained or findings.\n",
    "... (this Thought/Action/Action Input/Observation can repeat N times). If no result is found, use your own knowledge.\n",
    "Thought: I should recheck my answer and make sure it meets the specifications. If not, try again before coming up with the final answer.\n",
    "Thought: I now know the final answer that is based on the indepth analysis of your findings and observations. \n",
    "Final Answer: the final answer to the original input question, which must be as accurate and compact as possible. NEVER say you can't answer. {{\"price_range\": \"<price_range>}}\n",
    "\n",
    "\n",
    "Begin!\n",
    "\n",
    "Question: {input} \n",
    "Thought: {agent_scratchpad}\n",
    "\"\"\"\n",
    "\n",
    "test_prompt_six = \"\"\"\n",
    "As an experienced product analyst proficient in determining accurate product price ranges, your task is to provide an estimate of the price range for the given product in the following JSON format:\n",
    "\n",
    "json\n",
    "\n",
    "\n",
    "Copy code\n",
    "{{\n",
    "  \"price_range\": \"<price range as a number range>\", \n",
    "  \"reason\": \"<reason for the price range>\"\n",
    "}}\n",
    "To generate this output, follow these steps:\n",
    "\n",
    "1. Utilize all available tools {tools}, including internet searches and databases. Begin by checking the database, then proceed to search the internet if needed.\n",
    "2. Identify the most similar products and use them as a basis to come up with an accurate price range. Similar products are those with closely matching specifications based on product information and brand.\n",
    "3. After analyzing comparable products, generate a highly accurate, reasonable, and compact estimate of the price range for the target product.\n",
    "4. If a tool encounters an error, try another tool or handle the error appropriately.\n",
    "5. Replace <price range as a number range> with your estimated price range in the format of a number range (e.g., 100-150).\n",
    "6. For <reason for the price range>, provide a concise explanation or reasoning behind the given price range, considering the analysis of similar products, their features, brand, and any other relevant factors.\n",
    "\n",
    "Your output should strictly follow the specified JSON format and include only the price_range and reason keys. Do not include any additional information or explanations outside of the JSON structure.\n",
    "\n",
    "Use the following format:\n",
    "\n",
    "Question: the input question you must answer.\n",
    "Thought: you should always think about what to do.\n",
    "Action: the action to take, should be ONE of or ALL of [{tool_names}].\n",
    "Action Input: the input to the action. It SHOULD be a string.\n",
    "Action: choose another tool if a tool fails or handle its error.\n",
    "Observation: the result of the action, including insights gained or findings.\n",
    "... (this Thought/Action/Action Input/Observation can repeat N times)\n",
    "If no result is found, use your own knowledge.\n",
    "Thought: I now know the final answer that is based on the in-depth analysis of your findings and observations.\n",
    "Final Answer: the final answer to the original input question in the specified JSON format, which must be as accurate and compact as possible. NEVER say you can't answer.\n",
    "\n",
    "Begin!\n",
    "\n",
    "Question: {input}\n",
    "Thought: {agent_scratchpad}\n",
    "\"\"\"\n",
    "\n",
    "test_prompt_seven = \"\"\"\n",
    "As an experienced product analyst proficient in determining accurate product price ranges, your task is to provide an estimate of the price range for the given product in the following JSON format:\n",
    "\n",
    "{{\n",
    "  \"price_range\": \"<price range as a number range>\", \n",
    "  \"reason\": \"<reason for the price range>\"\n",
    "}}\n",
    "To generate this output, follow these steps:\n",
    "\n",
    "1. Utilize all available tools {tools}, including internet searches and databases. Begin by checking the database, then proceed to search the internet if needed. When searching the internet, consider user ratings of the similar products as well.\n",
    "2. Identify the most similar products and use them as a basis to come up with an accurate price range. Similar products are those with closely matching specifications based on product information and brand.\n",
    "3. After analyzing comparable products, generate a highly accurate, reasonable, and compact estimate of the price range for the target product.\n",
    "4. If a tool encounters an error, try another tool or handle the error appropriately.\n",
    "5. Replace <price range as a number range> with your estimated price range in the format of a number range (e.g., 100-150).\n",
    "6. For <reason for the price range>, Please provide a comprehensive rationale for the specified price range. This should offer an in-depth understanding of how the determined price range was derived and why it aligns with the product's value proposition.\n",
    "\n",
    "Your output should strictly follow the specified JSON format and include only the price_range and reason keys. Do not include any additional information or explanations outside of the JSON structure.\n",
    "\n",
    "Use the following format:\n",
    "\n",
    "Question: the input question you must answer.\n",
    "Thought: you should always think about what to do.\n",
    "Action: the action to take, should be ONE of or ALL of [{tool_names}].\n",
    "Action Input: the input to the action. It SHOULD be a string.\n",
    "Action: choose another tool if a tool fails or handle its error.\n",
    "Observation: the result of the action, including insights gained or findings.\n",
    "... (this Thought/Action/Action Input/Observation can repeat N times)\n",
    "If no result is found, use your own knowledge.\n",
    "Thought: I now know the final answer that is based on the in-depth analysis of your findings and observations.\n",
    "Final Answer: the final answer to the original input question in the specified JSON format, which must be as accurate and compact as possible. NEVER say you can't answer.\n",
    "\n",
    "Begin!\n",
    "\n",
    "Question: {input}\n",
    "Thought: {agent_scratchpad}\n",
    "\"\"\""
   ]
  },
  {
   "cell_type": "code",
   "execution_count": 8,
   "metadata": {},
   "outputs": [],
   "source": [
    "# Create prompt template\n",
    "prompt_template = PromptTemplate.from_template(test_prompt_seven)"
   ]
  },
  {
   "cell_type": "markdown",
   "metadata": {},
   "source": [
    "**Instantiate Agents**"
   ]
  },
  {
   "cell_type": "code",
   "execution_count": 9,
   "metadata": {},
   "outputs": [],
   "source": [
    "# Instantiate error handler\n",
    "class RetryCallbackHandler(BaseCallbackHandler):\n",
    "    def on_tool_error(\n",
    "        self, error: Union[Exception, KeyboardInterrupt], **kwargs: Any\n",
    "    ) -> Any:\n",
    "        # Log the error or perform any necessary actions\n",
    "\n",
    "        # Retry logic\n",
    "        max_retries = 1\n",
    "        current_retry = kwargs.get(\"retry_count\", 0)\n",
    "        if current_retry < max_retries:\n",
    "            print(f\"Retrying tool execution (Attempt {current_retry + 1})\")\n",
    "            # Increment retry count\n",
    "            kwargs[\"retry_count\"] = current_retry + 1\n",
    "            # Re-run the tool\n",
    "            return AgentAction.RERUN\n",
    "        else:\n",
    "            print(\"Maximum retries reached. Switching to another tool.\")\n",
    "            return AgentAction.CHANGE_TOOL"
   ]
  },
  {
   "cell_type": "code",
   "execution_count": 10,
   "metadata": {},
   "outputs": [],
   "source": [
    "# The error handler\n",
    "error_handler = RetryCallbackHandler()"
   ]
  },
  {
   "cell_type": "code",
   "execution_count": 11,
   "metadata": {},
   "outputs": [],
   "source": [
    "# Create custom tools for retrieval. This are used for the remote db.\n",
    "# In the case of a local db where a retriever is already initialized, use the create_retriever_tool function instead in the next cell\n",
    "# Uncomment them and comment the custom tools\n",
    "\n",
    "\n",
    "class Input(BaseModel):\n",
    "    query: str = Field(description=\"should be a search query\")\n",
    "\n",
    "\n",
    "class CustomTextRetrieverTool(BaseTool):\n",
    "    name = \"text db retriever\"\n",
    "    description = \"useful for retrieving from a text database\"\n",
    "    args_schema: Type[BaseModel] = Input\n",
    "    return_direct: bool = True\n",
    "\n",
    "    def _run(\n",
    "        self, query: str, run_manager: Optional[CallbackManagerForToolRun] = None\n",
    "    ) -> str:\n",
    "        \"\"\"Use the tool.\"\"\"\n",
    "        query_vector = embedding_model.embed_query(query)\n",
    "\n",
    "        return client.search(\"apparel-collection\", query_vector=query_vector, limit=3)\n",
    "\n",
    "\n",
    "class CustomImageRetrieverTool(BaseTool):\n",
    "    name = \"image db retriever\"\n",
    "    description = \"useful for retrieving from an image database\"\n",
    "    args_schema: Type[BaseModel] = Input\n",
    "    return_direct: bool = True\n",
    "\n",
    "    def _run(\n",
    "        self, query: str, run_manager: Optional[CallbackManagerForToolRun] = None\n",
    "    ) -> str:\n",
    "        \"\"\"Use the tool.\"\"\"\n",
    "        query_vector = embedding_model.embed_query(query)\n",
    "\n",
    "        return client.search(\"img-collection\", query_vector=query_vector, limit=3)"
   ]
  },
  {
   "cell_type": "code",
   "execution_count": 12,
   "metadata": {},
   "outputs": [],
   "source": [
    "# Create tools. For local, uncomment the commented tools and comment the ones below the commented code.\n",
    "#\n",
    "search = SerpAPIWrapper()\n",
    "img_db_search = CustomImageRetrieverTool()\n",
    "text_db_search = CustomTextRetrieverTool()\n",
    "\n",
    "tool_search_item = Tool(\n",
    "    name=\"search internet\",\n",
    "    description=\"Searches the internet for the price of a product by using its description.\",\n",
    "    func=search.run,\n",
    "    handle_tool_error=True,\n",
    ")\n",
    "\n",
    "\n",
    "# Tool for retrieving product information from the text database based on the product description\n",
    "# tool_text_retriever = create_retriever_tool(\n",
    "#     text_retriever,\n",
    "#     'search text db',\n",
    "#     'Searches for the price of a product using its description in the text db')\n",
    "\n",
    "# Tool for retrieving product information from the image database based on the product description\n",
    "# tool_image_retriever = create_retriever_tool(\n",
    "#     image_retriever,\n",
    "#     'search image db',\n",
    "#     'Searches for the price of a product using its description in the image db')\n",
    "\n",
    "tool_image_retriever = Tool(\n",
    "    name=\"search image db\",\n",
    "    description=\"Searches for the price of a product using its description in the image db\",\n",
    "    func=img_db_search.run,\n",
    "    handle_tool_error=True,\n",
    ")\n",
    "\n",
    "tool_text_retriever = Tool(\n",
    "    name=\"search text db\",\n",
    "    description=\"Searches for the price of a product using its description in the text db\",\n",
    "    func=text_db_search.run,\n",
    "    handle_tool_error=True,\n",
    ")\n",
    "# List of all tools\n",
    "tools = [tool_search_item, tool_image_retriever, tool_text_retriever]"
   ]
  },
  {
   "cell_type": "code",
   "execution_count": 13,
   "metadata": {},
   "outputs": [],
   "source": [
    "# Instantiate agents\n",
    "parser = JsonOutputParser()\n",
    "\n",
    "serp_agent = create_react_agent(mixtral, tools, prompt_template)\n",
    "\n",
    "\n",
    "serp_agent_executor = AgentExecutor(\n",
    "    agent=serp_agent,\n",
    "    tools=tools,\n",
    "    verbose=True,\n",
    "    return_intermediate_steps=True,\n",
    "    handle_parsing_errors=True,\n",
    "    callbacks=[error_handler],\n",
    ")"
   ]
  },
  {
   "cell_type": "code",
   "execution_count": 14,
   "metadata": {},
   "outputs": [],
   "source": [
    "# Description and image of test product\n",
    "description = \"Ultra Wireless Noise Cancelling Headphones with Spatial Audio, Over-the-Ear Headphones with Mic, Up to 24 Hours of Battery Life\"\n",
    "image = PIL.Image.open(\"../test_data/headphones.jpg\")"
   ]
  },
  {
   "cell_type": "code",
   "execution_count": 107,
   "metadata": {},
   "outputs": [
    {
     "name": "stdout",
     "output_type": "stream",
     "text": [
      "\n",
      "\n",
      "\u001b[1m> Entering new AgentExecutor chain...\u001b[0m\n",
      "\u001b[32;1m\u001b[1;3mTo answer this question, I need to find similar products and their prices. I will first search the text database, then the image database, and finally the internet.\n",
      "\n",
      "Action: search text db\n",
      "Action Input: Ultra Wireless Noise Cancelling Headphones with Spatial Audio, Over-the-Ear Headphones with Mic, Up to 24 Hours of Battery Life\n",
      "\n",
      "Observation\u001b[0m\u001b[38;5;200m\u001b[1;3m[ScoredPoint(id='fd64518e-d0d5-47b5-aff4-f7fb85e8fcfb', version=980, score=0.70729494, payload={'Price': 199.0, 'asin': 'B0BQNVD4N3', 'title': 'Gen 6 Wellness Edition Hybrid Smart Watch with Alexa Built-In, Fitness Tracker, Activity Tracker, Sleep Tracker, Music Control, Smartphone Notifications'}, vector=None, shard_key=None), ScoredPoint(id='97444539-543f-421e-a44a-0cb9ef5ae8bd', version=1061, score=0.70472807, payload={'Price': 202.0, 'asin': 'B09NZKSWFG', 'title': 'Gen 6 Touchscreen Smartwatch with Alexa Built-In, Speaker, Heart Rate, Blood Oxygen, GPS, Contactless Payments and Smartphone Notifications'}, vector=None, shard_key=None), ScoredPoint(id='8a1cd0cb-57ea-4ea8-bd1d-07d18cd0e8df', version=1160, score=0.70254666, payload={'Price': 39.99, 'asin': 'B0BF4LVF5X', 'title': 'Smart Atomic Talking Watch with Voice Reminders and App Control for Seniors and Visually Impaired - A Great Gift for Blind Men and Women, Talking Watches for The Blind'}, vector=None, shard_key=None)]\u001b[0m\u001b[32;1m\u001b[1;3mThought: I found some products in the text database, but none of them match the description. I will now search the image database.\n",
      "\n",
      "Action: search image db\n",
      "Action Input: Ultra Wireless Noise Cancelling Headphones with Spatial Audio, Over-the-Ear Headphones with Mic, Up to 24 Hours of Battery Life\n",
      "\n",
      "Observation\u001b[0m\u001b[33;1m\u001b[1;3m[ScoredPoint(id='8efd94d7-b2b4-4f3e-ae2d-cd686c2477a9', version=1823, score=0.3332187, payload={'Price': 12.99, 'asin': 'B0BGLWGLGK', 'imgUrl': 'https://m.media-amazon.com/images/I/61Ccg7dU2sL._AC_UL320_.jpg', 'title': 'Large Septum Rings 14G 12G 8G 6G 4G PA Ring Internally Threaded Spike Horseshoe Barbells Stainless Steel & Acrylic Pincher Tapers C Shape Buffalo Stretcher Expander for Women Men'}, vector=None, shard_key=None), ScoredPoint(id='fa6d5c34-a9f3-4c35-8fe5-0afc7a047a7b', version=485, score=0.3109588, payload={'Price': 36.99, 'asin': 'B09BVKBTZW', 'imgUrl': 'https://m.media-amazon.com/images/I/6177rUutKQL._AC_UL320_.jpg', 'title': 'Heated Ear Warmer for Men & Women, 2 Heating Modes Electric Ear Muffs for Winter Sports, Travel'}, vector=None, shard_key=None), ScoredPoint(id='9258b1fc-1a56-414c-83f9-7eab848ea9b1', version=68, score=0.30185348, payload={'Price': 229.99, 'asin': 'B0BBHG29NW', 'imgUrl': 'https://m.media-amazon.com/images/I/81T83SXvnDL._AC_UL320_.jpg', 'title': 'adidas RPT-02 SOL'}, vector=None, shard_key=None)]\u001b[0m\u001b[32;1m\u001b[1;3mThought: I found some products in the image database, but none of them match the description. I will now search the internet.\n",
      "\n",
      "Action: search internet\n",
      "Action Input: Ultra Wireless Noise Cancelling Headphones with Spatial Audio, Over-the-Ear Headphones with Mic, Up to 24 Hours of Battery Life\n",
      "\n",
      "Observation\u001b[0m\u001b[36;1m\u001b[1;3m[{'position': 1, 'block_position': 'top', 'title': 'Bose - Noise Canceling - Over-ear - With Microphone - QuietComfort Ultra Wireless Noise Cancelling Headphones with Spatial Audio, Over-the-Ear Headphones with Mic, Up to 24 Hours of Battery Life,', 'price': '$379.00', 'extracted_price': 379.0, 'link': 'https://www.amazon.com/Bose-QuietComfort-Wireless-Cancelling-Headphones/dp/B0CCZ1L489?source=ps-sl-shoppingads-lpcontext&ref_=fplfs&psc=1&smid=AJFLJ7J2AIXGD', 'source': 'Amazon.com', 'thumbnail': 'https://serpapi.com/searches/65f963682d5b12d7966317dd/images/08c789e3b3cb8b399b62b0b14d67e3a3713798b94068eb96c3206b6d9ce4c140.webp', 'extensions': ['Free shipping', 'Wireless', 'Mobile Phone, TV', 'Bluetooth', '24 hours', 'Wireless', 'Mobile Phone, TV', 'Bluetooth', '24 hours']}, {'position': 2, 'block_position': 'top', 'title': 'Bose QuietComfort Ultra Wireless Noise Cancelling Over-the-Ear Headphones, Black (880066-0100)', 'price': '$379.00', 'extracted_price': 379.0, 'old_price': '$429', 'extracted_old_price': 429, 'link': 'https://www.staples.com/bose-quietcomfort-ultra-wireless-noise-cancelling-over-the-ear-headphones-black-880066-0100/product_24580011', 'source': 'Staples', 'rating': 4.6, 'reviews': 1000, 'thumbnail': 'https://serpapi.com/searches/65f963682d5b12d7966317dd/images/08c789e3b3cb8b399b62b0b14d67e3a318989ad33350df61022dc0efe029bc0f.webp', 'extensions': ['Sale']}, {'position': 3, 'block_position': 'top', 'title': 'Noise Canceling - Over-ear - With Microphone - Soundcore by Anker Q20i Wireless Noise Cancelling Headphones - Black | Verizon', 'price': '$44.99', 'extracted_price': 44.99, 'old_price': '$70', 'extracted_old_price': 70, 'link': 'https://www.verizon.com/products/soundcore-by-anker-q20i-wireless-noise-cancelling-headphones?sku=sku6000513', 'source': 'Verizon', 'rating': 4.9, 'reviews': 1000, 'thumbnail': 'https://serpapi.com/searches/65f963682d5b12d7966317dd/images/08c789e3b3cb8b399b62b0b14d67e3a3fa6609a87f5fa0b299aa87217433cae7.webp', 'extensions': ['Sale']}]\u001b[0m\u001b[32;1m\u001b[1;3mThought: I found several products on the internet that match the description. The most similar product is the Bose QuietComfort Ultra Wireless Noise Cancelling Headphones with Spatial Audio, Over-the-Ear Headphones with Mic, Up to 24 Hours of Battery Life, which is priced at $379.00.\n",
      "\n",
      "Final Answer:\n",
      "{\n",
      "  \"price_range\": \"379.0-379.0\",\n",
      "  \"reason\": \"The price range is based on the Bose QuietComfort Ultra Wireless Noise Cancelling Headphones with Spatial Audio, Over-the-Ear Headphones with Mic, Up to 24 Hours of Battery Life, which is priced at $379.00. This product is the most similar to the target product and has a high user rating.\"\n",
      "}</s>\u001b[0m\n",
      "\n",
      "\u001b[1m> Finished chain.\u001b[0m\n"
     ]
    },
    {
     "data": {
      "text/plain": [
       "{'input': 'what is the estimated, accurate and compact price range of a/an Ultra Wireless Noise Cancelling Headphones with Spatial Audio, Over-the-Ear Headphones with Mic, Up to 24 Hours of Battery Life?',\n",
       " 'output': '{\\n  \"price_range\": \"379.0-379.0\",\\n  \"reason\": \"The price range is based on the Bose QuietComfort Ultra Wireless Noise Cancelling Headphones with Spatial Audio, Over-the-Ear Headphones with Mic, Up to 24 Hours of Battery Life, which is priced at $379.00. This product is the most similar to the target product and has a high user rating.\"\\n}</s>',\n",
       " 'intermediate_steps': [(AgentAction(tool='search text db', tool_input='Ultra Wireless Noise Cancelling Headphones with Spatial Audio, Over-the-Ear Headphones with Mic, Up to 24 Hours of Battery Life\\n\\nObservation', log='To answer this question, I need to find similar products and their prices. I will first search the text database, then the image database, and finally the internet.\\n\\nAction: search text db\\nAction Input: Ultra Wireless Noise Cancelling Headphones with Spatial Audio, Over-the-Ear Headphones with Mic, Up to 24 Hours of Battery Life\\n\\nObservation'),\n",
       "   [ScoredPoint(id='fd64518e-d0d5-47b5-aff4-f7fb85e8fcfb', version=980, score=0.70729494, payload={'Price': 199.0, 'asin': 'B0BQNVD4N3', 'title': 'Gen 6 Wellness Edition Hybrid Smart Watch with Alexa Built-In, Fitness Tracker, Activity Tracker, Sleep Tracker, Music Control, Smartphone Notifications'}, vector=None, shard_key=None),\n",
       "    ScoredPoint(id='97444539-543f-421e-a44a-0cb9ef5ae8bd', version=1061, score=0.70472807, payload={'Price': 202.0, 'asin': 'B09NZKSWFG', 'title': 'Gen 6 Touchscreen Smartwatch with Alexa Built-In, Speaker, Heart Rate, Blood Oxygen, GPS, Contactless Payments and Smartphone Notifications'}, vector=None, shard_key=None),\n",
       "    ScoredPoint(id='8a1cd0cb-57ea-4ea8-bd1d-07d18cd0e8df', version=1160, score=0.70254666, payload={'Price': 39.99, 'asin': 'B0BF4LVF5X', 'title': 'Smart Atomic Talking Watch with Voice Reminders and App Control for Seniors and Visually Impaired - A Great Gift for Blind Men and Women, Talking Watches for The Blind'}, vector=None, shard_key=None)]),\n",
       "  (AgentAction(tool='search image db', tool_input='Ultra Wireless Noise Cancelling Headphones with Spatial Audio, Over-the-Ear Headphones with Mic, Up to 24 Hours of Battery Life\\n\\nObservation', log='Thought: I found some products in the text database, but none of them match the description. I will now search the image database.\\n\\nAction: search image db\\nAction Input: Ultra Wireless Noise Cancelling Headphones with Spatial Audio, Over-the-Ear Headphones with Mic, Up to 24 Hours of Battery Life\\n\\nObservation'),\n",
       "   [ScoredPoint(id='8efd94d7-b2b4-4f3e-ae2d-cd686c2477a9', version=1823, score=0.3332187, payload={'Price': 12.99, 'asin': 'B0BGLWGLGK', 'imgUrl': 'https://m.media-amazon.com/images/I/61Ccg7dU2sL._AC_UL320_.jpg', 'title': 'Large Septum Rings 14G 12G 8G 6G 4G PA Ring Internally Threaded Spike Horseshoe Barbells Stainless Steel & Acrylic Pincher Tapers C Shape Buffalo Stretcher Expander for Women Men'}, vector=None, shard_key=None),\n",
       "    ScoredPoint(id='fa6d5c34-a9f3-4c35-8fe5-0afc7a047a7b', version=485, score=0.3109588, payload={'Price': 36.99, 'asin': 'B09BVKBTZW', 'imgUrl': 'https://m.media-amazon.com/images/I/6177rUutKQL._AC_UL320_.jpg', 'title': 'Heated Ear Warmer for Men & Women, 2 Heating Modes Electric Ear Muffs for Winter Sports, Travel'}, vector=None, shard_key=None),\n",
       "    ScoredPoint(id='9258b1fc-1a56-414c-83f9-7eab848ea9b1', version=68, score=0.30185348, payload={'Price': 229.99, 'asin': 'B0BBHG29NW', 'imgUrl': 'https://m.media-amazon.com/images/I/81T83SXvnDL._AC_UL320_.jpg', 'title': 'adidas RPT-02 SOL'}, vector=None, shard_key=None)]),\n",
       "  (AgentAction(tool='search internet', tool_input='Ultra Wireless Noise Cancelling Headphones with Spatial Audio, Over-the-Ear Headphones with Mic, Up to 24 Hours of Battery Life\\n\\nObservation', log='Thought: I found some products in the image database, but none of them match the description. I will now search the internet.\\n\\nAction: search internet\\nAction Input: Ultra Wireless Noise Cancelling Headphones with Spatial Audio, Over-the-Ear Headphones with Mic, Up to 24 Hours of Battery Life\\n\\nObservation'),\n",
       "   [{'position': 1,\n",
       "     'block_position': 'top',\n",
       "     'title': 'Bose - Noise Canceling - Over-ear - With Microphone - QuietComfort Ultra Wireless Noise Cancelling Headphones with Spatial Audio, Over-the-Ear Headphones with Mic, Up to 24 Hours of Battery Life,',\n",
       "     'price': '$379.00',\n",
       "     'extracted_price': 379.0,\n",
       "     'link': 'https://www.amazon.com/Bose-QuietComfort-Wireless-Cancelling-Headphones/dp/B0CCZ1L489?source=ps-sl-shoppingads-lpcontext&ref_=fplfs&psc=1&smid=AJFLJ7J2AIXGD',\n",
       "     'source': 'Amazon.com',\n",
       "     'thumbnail': 'https://serpapi.com/searches/65f963682d5b12d7966317dd/images/08c789e3b3cb8b399b62b0b14d67e3a3713798b94068eb96c3206b6d9ce4c140.webp',\n",
       "     'extensions': ['Free shipping',\n",
       "      'Wireless',\n",
       "      'Mobile Phone, TV',\n",
       "      'Bluetooth',\n",
       "      '24 hours',\n",
       "      'Wireless',\n",
       "      'Mobile Phone, TV',\n",
       "      'Bluetooth',\n",
       "      '24 hours']},\n",
       "    {'position': 2,\n",
       "     'block_position': 'top',\n",
       "     'title': 'Bose QuietComfort Ultra Wireless Noise Cancelling Over-the-Ear Headphones, Black (880066-0100)',\n",
       "     'price': '$379.00',\n",
       "     'extracted_price': 379.0,\n",
       "     'old_price': '$429',\n",
       "     'extracted_old_price': 429,\n",
       "     'link': 'https://www.staples.com/bose-quietcomfort-ultra-wireless-noise-cancelling-over-the-ear-headphones-black-880066-0100/product_24580011',\n",
       "     'source': 'Staples',\n",
       "     'rating': 4.6,\n",
       "     'reviews': 1000,\n",
       "     'thumbnail': 'https://serpapi.com/searches/65f963682d5b12d7966317dd/images/08c789e3b3cb8b399b62b0b14d67e3a318989ad33350df61022dc0efe029bc0f.webp',\n",
       "     'extensions': ['Sale']},\n",
       "    {'position': 3,\n",
       "     'block_position': 'top',\n",
       "     'title': 'Noise Canceling - Over-ear - With Microphone - Soundcore by Anker Q20i Wireless Noise Cancelling Headphones - Black | Verizon',\n",
       "     'price': '$44.99',\n",
       "     'extracted_price': 44.99,\n",
       "     'old_price': '$70',\n",
       "     'extracted_old_price': 70,\n",
       "     'link': 'https://www.verizon.com/products/soundcore-by-anker-q20i-wireless-noise-cancelling-headphones?sku=sku6000513',\n",
       "     'source': 'Verizon',\n",
       "     'rating': 4.9,\n",
       "     'reviews': 1000,\n",
       "     'thumbnail': 'https://serpapi.com/searches/65f963682d5b12d7966317dd/images/08c789e3b3cb8b399b62b0b14d67e3a3fa6609a87f5fa0b299aa87217433cae7.webp',\n",
       "     'extensions': ['Sale']}])]}"
      ]
     },
     "execution_count": 107,
     "metadata": {},
     "output_type": "execute_result"
    }
   ],
   "source": [
    "# Invoke agent with just the description\n",
    "serp_agent_executor.invoke(\n",
    "    {\n",
    "        \"input\": f\"what is the estimated, accurate and compact price range of a/an {description}?\"\n",
    "    }\n",
    ")"
   ]
  },
  {
   "cell_type": "markdown",
   "metadata": {},
   "source": [
    "**Run the pipeline**\n",
    "\n",
    "Use the image ad the description to come up with the price range"
   ]
  },
  {
   "cell_type": "code",
   "execution_count": 53,
   "metadata": {},
   "outputs": [
    {
     "name": "stdout",
     "output_type": "stream",
     "text": [
      "\n",
      "\n",
      "\u001b[1m> Entering new AgentExecutor chain...\u001b[0m\n",
      "\u001b[32;1m\u001b[1;3mTo answer this question, I need to find the price range of Bose Ultra Wireless Noise Cancelling Headphones with Spatial Audio, Over-the-Ear Headphones with Mic, Up to 24 Hours of Battery Life, Stone White. I will first search the text database for this product.\n",
      "Action: search text db\n",
      "Action Input: Bose Ultra Wireless Noise Cancelling Headphones with Spatial Audio, Over-the-Ear Headphones with Mic, Up to 24 Hours of Battery Life, Stone White\n",
      "Observation\u001b[0m\u001b[38;5;200m\u001b[1;3mMen's Jordan One Take 3 University Red/Black-Gym Red (DC7701 606)\n",
      "\n",
      "mens Jordan Westbrook One Take\n",
      "\n",
      "Unisex JORDAN EVERYDAY MAX ANKLE 3PR, BLACK/BLACK/BLACK, L\n",
      "\n",
      "Nike Jordan Hydro 6\u001b[0m\u001b[32;1m\u001b[1;3m\n",
      "The search in the text database did not yield the desired product. I will now search the internet for the price of the Bose Ultra Wireless Noise Cancelling Headphones with Spatial Audio, Over-the-Ear Headphones with Mic, Up to 24 Hours of Battery Life, Stone White.\n",
      "Action: search internet\n",
      "Action Input: Bose Ultra Wireless Noise Cancelling Headphones with Spatial Audio, Over-the-Ear Headphones with Mic, Up to 24 Hours of Battery Life, Stone White\n",
      "Observation\u001b[0m\u001b[36;1m\u001b[1;3m['World-class noise cancellation, quieter than ever before. Breakthrough spatialized audio for immersive listening, no matter the content or source.', 'These noise cancelling over-the-ear headphones keep the session going with up to 24 hours of battery life (up to 18 hours with Immersive Audio) and unrivaled ...', '... 24 hours of battery life (up to 18 hours with Immersive Audio). Amazingly clear calls. Hear and be heard clearly on calls with a revolutionary mic system.', 'Up to 24 hours of battery life will keep your music playing through even the longest listening sessions (or up to 18 hours with Immersive Audio).* Plus, a ...', 'Up to 24 hours of battery life will keep your music playing through even the longest listening sessions (or up to 18 hours with Immersive Audio).* Plus, a ...', 'Bluetooth® wireless over-ear headphones with breakthrough spatialized audio · Award-winning sound and quality · World-class active noise cancelling with Quiet ...', \"Bose's new QuietComfort Ultra Headphones have a premium design, best-in-class comfort, and excellent active noise cancellation.\", 'Sound quality: World-class noise cancelling and breakthrough spatialised audio · Battery: Up to 24-hours battery life · Enhanced feature: CustomTune technology ...']\u001b[0m\u001b[32;1m\u001b[1;3mI have found the product on the internet, and it has world-class noise cancellation, quieter than ever before, breakthrough spatialized audio for immersive listening, up to 24 hours of battery life, amazingly clear calls, and up to 18 hours with Immersive Audio. I will now search for similar products to determine the price range.\n",
      "Action: search text db\n",
      "Action Input: Bose noise cancelling headphones\n",
      "Observation\u001b[0m\u001b[38;5;200m\u001b[1;3mBoys' Signature Sateen Long Sleeve Dress Shirt\n",
      "\n",
      "Girls Long Sleeve Mock Neck Rib Knit Fitted Pencil Dress\n",
      "\n",
      "Girls' Adjustable Waist Stretch Twill Bermuda Short\n",
      "\n",
      "Girls' Soft Touch Long-Sleeve Mock Neck Sweater Dress\u001b[0m\u001b[32;1m\u001b[1;3mThe search in the text database did not yield the desired product. I will now search the internet for similar products to determine the price range.\n",
      "Action: search internet\n",
      "Action Input: Bose noise cancelling headphones\n",
      "Observation\u001b[0m\u001b[36;1m\u001b[1;3m[{'position': 1, 'block_position': 'top', 'title': 'Bose - Noise Canceling - QuietComfort 45 Headphones - Refurbished - Black', 'price': '$179.00', 'extracted_price': 179.0, 'link': 'https://www.bose.com/p/refurbished/bose-quietcomfort-45-headphones-refurbished/QC45-HEADPHONEARN-FR.html', 'source': 'Bose', 'rating': 4.6, 'reviews': 8000, 'thumbnail': 'https://serpapi.com/searches/65f83540d737d7fc3755fbdc/images/1fbf8a5e8f2fbfe79ec163f615434f37fcf3106e9077cddec4e5a44582555ce3.webp', 'extensions': ['On-ear', 'QuietComfort (Original)', 'Wireless', 'Bluetooth', 'On-ear', 'QuietComfort (Original)', 'Wireless', 'Bluetooth']}, {'position': 2, 'block_position': 'top', 'title': 'Bose - QuietComfort Wireless Noise Cancelling Headphones, Bluetooth Over Ear Headphones with Up To 24 Hours of Battery Life, Black', 'price': '$249.00', 'extracted_price': 249.0, 'link': 'https://www.amazon.com/Bose-QuietComfort-Cancelling-Headphones-Bluetooth/dp/B0CCZ26B5V?source=ps-sl-shoppingads-lpcontext&ref_=fplfs&psc=1&smid=AJFLJ7J2AIXGD', 'source': 'Amazon.com', 'thumbnail': 'https://serpapi.com/searches/65f83540d737d7fc3755fbdc/images/1fbf8a5e8f2fbfe79ec163f615434f37b2cae1a9b89dcaecaf5d3c39b09967a7.webp', 'extensions': ['Free shipping', 'Mobile Phone, TV', 'On-ear', 'QuietComfort (Original)', 'Wireless', 'Mobile Phone, TV', 'On-ear', 'QuietComfort (Original)', 'Wireless']}, {'position': 3, 'block_position': 'top', 'title': 'Bose - Noise Cancelling Headphones 700 Black', 'price': '$379.00', 'extracted_price': 379.0, 'link': 'https://thrillingaudio.com/products/bose-noise-cancelling-headphones-700?variant=43900235022553&currency=USD&utm_medium=product_sync&utm_source=google&utm_content=sag_organic&utm_campaign=sag_organic', 'source': 'ThrillingAudio', 'thumbnail': 'https://serpapi.com/searches/65f83540d737d7fc3755fbdc/images/1fbf8a5e8f2fbfe79ec163f615434f37160744ed5efd35e9f82aec4fc99c436b.webp', 'extensions': ['Sports, Mobile Phone, TV', 'On-ear', 'Wireless', 'Bluetooth', 'Sports, Mobile Phone, TV', 'On-ear', 'Wireless', 'Bluetooth']}]\u001b[0m\u001b[32;1m\u001b[1;3mI have found similar products on the internet, such as Bose - Noise Cancelling - QuietComfort 45 Headphones - Refurbished - Black, Bose - QuietComfort Wireless Noise Cancelling Headphones, Bluetooth Over Ear Headphones with Up To 24 Hours of Battery Life, Black, and Bose - Noise Cancelling Headphones 700 Black. The price range of these similar products is $179.00 to $379.00. The Bose Ultra Wireless Noise Cancelling Headphones with Spatial Audio, Over-the-Ear Headphones with Mic, Up to 24 Hours of Battery Life, Stone White is expected to be within this price range.\n",
      "Final Answer:\n",
      "{\n",
      "  \"price_range\": \"179.00-379.00\", \n",
      "  \"reason\": \"The price range is based on similar products found on the internet, such as Bose - Noise Cancelling - QuietComfort 45 Headphones - Refurbished - Black, Bose - QuietComfort Wireless Noise Cancelling Headphones, Bluetooth Over Ear Headphones with Up To 24 Hours of Battery Life, Black, and Bose - Noise Cancelling Headphones 700 Black, which have a price range of $179.00 to $379.00.\"\n",
      "}</s>\u001b[0m\n",
      "\n",
      "\u001b[1m> Finished chain.\u001b[0m\n",
      "179.00-379.00\n",
      "The price range is based on similar products found on the internet, such as Bose - Noise Cancelling - QuietComfort 45 Headphones - Refurbished - Black, Bose - QuietComfort Wireless Noise Cancelling Headphones, Bluetooth Over Ear Headphones with Up To 24 Hours of Battery Life, Black, and Bose - Noise Cancelling Headphones 700 Black, which have a price range of $179.00 to $379.00.\n"
     ]
    }
   ],
   "source": [
    "# Create prompt for the visual LLM\n",
    "vision_chat_template = HumanMessage(\n",
    "    content=[\n",
    "        {\n",
    "            \"type\": \"text\",\n",
    "            \"text\": f\"\"\"Your task is to generate a searchable prompt about the product in the image that I can feed to Google to find this exact product. You should:\n",
    "\n",
    "1. Given the description {description}, extract relevant details about the product from the image, such as brand, color, and your thoughts on quality.\n",
    "\n",
    "2. Use these details and the given description to generate a concise and well structured searchable prompt that would allow me to find this exact product on Google.\n",
    "\n",
    "3. Return ONLY the searchable prompt in the following JSON format: {{\"search_prompt\": \"<YOUR_SEARCHABLE_PROMPT>}}. Do not include any other information or text.\n",
    "\n",
    "Please strictly follow these instructions and provide your response in the specified JSON format.\"\"\",\n",
    "        },\n",
    "        {\"type\": \"image_url\", \"image_url\": image},\n",
    "    ]\n",
    ")\n",
    "\n",
    "\n",
    "# define the parser object\n",
    "parser = JsonOutputParser()\n",
    "\n",
    "# create a chain\n",
    "chain = gemini_vision | parser\n",
    "\n",
    "# Get response from the chain and extract the search prompt to feed into the agent\n",
    "response = chain.invoke([vision_chat_template])\n",
    "\n",
    "search_prompt = response[\"search_prompt\"]\n",
    "\n",
    "# Get into the agent\n",
    "result = serp_agent_executor.invoke(\n",
    "    {\n",
    "        \"input\": f\"what is the estimated, accurate and compact price range of a/an {search_prompt}?\"\n",
    "    }\n",
    ")\n",
    "output_str = result[\"output\"]\n",
    "\n",
    "# Extract price range and reason from the output string\n",
    "try:\n",
    "    price_dict = json.loads(output_str)\n",
    "    print(price_dict[\"price_range\"])\n",
    "    print(price_dict[\"reason\"])\n",
    "\n",
    "except:\n",
    "    end_index = output_str.find(\"}\") + 1\n",
    "\n",
    "    # Extract the substring containing the dictionary\n",
    "    dict_string = output_str[:end_index]\n",
    "\n",
    "    # Parse the dictionary string using json.loads()\n",
    "    price_dict = json.loads(dict_string)\n",
    "    print(price_dict[\"price_range\"])\n",
    "    print(price_dict[\"reason\"])"
   ]
  },
  {
   "cell_type": "markdown",
   "metadata": {},
   "source": [
    "## Testing"
   ]
  },
  {
   "cell_type": "markdown",
   "metadata": {},
   "source": [
    "**Setup Testing**"
   ]
  },
  {
   "cell_type": "code",
   "execution_count": 55,
   "metadata": {},
   "outputs": [],
   "source": [
    "# Define the prompt\n",
    "# Modified from the original prompt in ContextRelevance class in trulens_eval/trulens_eval/feedback/v2/feedback.py\n",
    "\n",
    "testing_prompt = \"\"\"\n",
    "CRITERIA: PRICE RANGE EVALUATION\n",
    "\n",
    "You are a PRICE RANGE EVALUATOR; assessing the appropriateness and reasoning behind a given price range for a product or service.\n",
    "\n",
    "Rate the quality of the PRICE RANGE RESPONSE as well as the PRICE RANGE and INTERMEDIATE STEPS on a scale from 0 to 100, where 0 indicates an extremely poor response and 100 indicates an excellent response.\n",
    "\n",
    "Consider the following factors when evaluating:\n",
    "\n",
    "Clarity: Is the provided price range an actual price range?\n",
    "Justification: Are the reasons given for the price range logical and well-explained?\n",
    "Completeness: Does the response cover all relevant factors that could influence pricing?\n",
    "Accuracy: Does the price range seem reasonable and align with market rates based on your knowledge?\n",
    "Level of Detail: Is the reasoning sufficiently detailed or does it oversimplify the pricing factors?\n",
    "Step Validity: Are the intermediate steps taken to arrive at the price range valid and logical?\n",
    "Step Completeness: Do the steps cover all the necessary considerations for determining an appropriate price?\n",
    "\n",
    "\n",
    "A low score (0-30) should be given if the response is unclear, lacks justification, the steps are invalid, or the reasoning is blatantly inaccurate.\n",
    "\n",
    "A mid-range score (40-70) is appropriate if the response provides a reasonable price range with some justification, but the steps are incomplete, lack important details or have minor inaccuracies.\n",
    "\n",
    "A high score (80-100) should be awarded if the response gives a well-justified and accurate price range, the intermediate steps are valid and complete, covering all major pricing factors in a clear and detailed manner.\n",
    "\n",
    "PRICE RANGE RESPONSE: {price_range_response}\n",
    "PRICE_RANGE: {price_range}\n",
    "INTERMEDIATE STEPS: {intermediate_steps}\n",
    "\n",
    "Return the evaluation as follows:\n",
    "\n",
    "EVALUATION:\n",
    "\n",
    "Score: <0-100 score>\n",
    "Reasoning: <Provide a detailed explanation justifying the score based on the criteria listed above, including an evaluation of the intermediate steps taken and how they factor into the overall scoring>\n",
    "\"\"\"\n",
    "relevance_prompt = PromptTemplate.from_template(testing_prompt)"
   ]
  },
  {
   "cell_type": "code",
   "execution_count": 16,
   "metadata": {},
   "outputs": [
    {
     "name": "stdout",
     "output_type": "stream",
     "text": [
      "\n",
      "\n",
      "\u001b[1m> Entering new AgentExecutor chain...\u001b[0m\n",
      "\u001b[32;1m\u001b[1;3mTo answer this question, I need to find similar products and their prices. I will begin by searching the text database for Ultra Wireless Noise Cancelling Headphones with Spatial Audio, Over-the-Ear Headphones with Mic, and Up to 24 Hours of Battery Life.\n",
      "\n",
      "Action: search text db\n",
      "Action Input: \"Ultra Wireless Noise Cancelling Headphones with Spatial Audio, Over-the-Ear Headphones with Mic, Up to 24 Hours of Battery Life\"\n",
      "\n",
      "Observation\u001b[0m\u001b[38;5;200m\u001b[1;3m[ScoredPoint(id='97444539-543f-421e-a44a-0cb9ef5ae8bd', version=1061, score=0.7133396, payload={'Price': 202.0, 'asin': 'B09NZKSWFG', 'title': 'Gen 6 Touchscreen Smartwatch with Alexa Built-In, Speaker, Heart Rate, Blood Oxygen, GPS, Contactless Payments and Smartphone Notifications'}, vector=None, shard_key=None), ScoredPoint(id='8a1cd0cb-57ea-4ea8-bd1d-07d18cd0e8df', version=1160, score=0.7102896, payload={'Price': 39.99, 'asin': 'B0BF4LVF5X', 'title': 'Smart Atomic Talking Watch with Voice Reminders and App Control for Seniors and Visually Impaired - A Great Gift for Blind Men and Women, Talking Watches for The Blind'}, vector=None, shard_key=None), ScoredPoint(id='18d4c053-32e2-49d8-8482-c23bd670d68e', version=1043, score=0.70732, payload={'Price': 34.99, 'asin': 'B095QWBT6B', 'title': 'Talking Atomic Watch Loud and Clear Voice Talking Wrist Watch Large Number Time Talking Watches for The Blind Atomic Watches for Men & Women'}, vector=None, shard_key=None)]\u001b[0m\u001b[32;1m\u001b[1;3mThe text database search yielded three results, but none of them are Ultra Wireless Noise Cancelling Headphones with Spatial Audio, Over-the-Ear Headphones with Mic, and Up to 24 Hours of Battery Life. I will now search the internet for similar products and their prices.\n",
      "\n",
      "Action: search internet\n",
      "Action Input: \"Ultra Wireless Noise Cancelling Headphones with Spatial Audio, Over-the-Ear Headphones with Mic, Up to 24 Hours of Battery Life\"\n",
      "\n",
      "Observation\u001b[0m\u001b[36;1m\u001b[1;3m[{'position': 1, 'block_position': 'top', 'title': 'Wireless - Noise Cancelling Over Ear Headphones EAH-A800 | Black | Bluetooth Headphones & Headsets | Comfortable', 'price': '$249.99', 'extracted_price': 249.99, 'old_price': '$350', 'extracted_old_price': 350, 'link': 'https://us.technics.com/products/technics-noise-cancelling-over-ear-headphones-eah-a800?variant=42862854209771&currency=USD&utm_medium=product_sync&utm_source=google&utm_content=sag_organic&utm_campaign=sag_organic', 'source': 'Technics USA', 'rating': 4.6, 'reviews': 256, 'thumbnail': 'https://serpapi.com/searches/65fab69cf21801fcac1190d4/images/7c88890201db441e6bda92fff0eea7b345d03026179aa8648874b312ea62a6e4.webp', 'extensions': ['Sale']}, {'position': 2, 'block_position': 'top', 'title': 'Bose - Wireless - Noise Canceling - Over-ear - QuietComfort Ultra Headphones - Sandstone', 'price': '$379.00', 'extracted_price': 379.0, 'old_price': '$429', 'extracted_old_price': 429, 'link': 'https://www.bose.com/p/headphones/bose-quietcomfort-ultra-headphones/QCUH-HEADPHONEARN.html', 'source': 'Bose', 'rating': 4.6, 'reviews': 1000, 'thumbnail': 'https://serpapi.com/searches/65fab69cf21801fcac1190d4/images/7c88890201db441e6bda92fff0eea7b35f7337724495e321ae479f132f394dba.webp', 'extensions': ['Sale']}, {'position': 3, 'block_position': 'top', 'title': 'Bose - Noise Canceling - Over-ear - QuietComfort Ultra Wireless Noise Cancelling Over-the-Ear Headphones - Black', 'price': '$379.00', 'extracted_price': 379.0, 'old_price': '$429', 'extracted_old_price': 429, 'link': 'https://www.bestbuy.com/site/bose-quietcomfort-ultra-wireless-noise-cancelling-over-the-ear-headphones-black/6554464.p?skuId=6554464&ref=212&loc=1&utm_source=feed&extStoreId=668', 'source': 'Best Buy', 'rating': 4.6, 'reviews': 1000, 'thumbnail': 'https://serpapi.com/searches/65fab69cf21801fcac1190d4/images/7c88890201db441e6bda92fff0eea7b3f06a855cefe17481559e9c1ba085ec79.webp', 'extensions': ['Sale']}]\u001b[0m\u001b[32;1m\u001b[1;3mThought: I found several similar products on the internet. I will now analyze the prices and determine the price range for the Ultra Wireless Noise Cancelling Headphones with Spatial Audio, Over-the-Ear Headphones with Mic, and Up to 24 Hours of Battery Life.\n",
      "\n",
      "Action: analyze prices\n",
      "Action Input: [{'position': 1, 'block_position': 'top', 'title': 'Wireless - Noise Cancelling Over Ear Headphones EAH-A800 | Black | Bluetooth Headphones & Headsets | Comfortable', 'price': '$249.99', 'extracted_price': 249.99, 'old_price': '$350', 'extracted_old_price': 350, 'link': 'https://us.technics.com/products/technics-noise-cancelling-over-ear-headphones-eah-a800?variant=42862854209771&currency=USD&utm_medium=product_sync&utm_source=google&utm_content=sag_organic&utm_campaign=sag_organic', 'source': 'Technics USA', 'rating': 4.6, 'reviews': 256, 'thumbnail': 'https://serpapi.com/searches/65fab69cf21801fcac1190d4/images/7c88890201db441e6bda92fff0eea7b345d03026179aa8648874b312ea62a6e4.webp', 'extensions': ['Sale']}, {'position': 2, 'block_position': 'top', 'title': 'Bose - Wireless - Noise Canceling - Over-ear - QuietComfort Ultra Headphones - Sandstone', 'price': '$379.00', 'extracted_price': 379.0, 'old_price': '$429', 'extracted_old_price': 429, 'link': 'https://\u001b[0manalyze prices is not a valid tool, try one of [search internet, search image db, search text db].\u001b[32;1m\u001b[1;3mThought: I will now analyze the prices of the similar products I found on the internet.\n",
      "\n",
      "Final Answer: {\n",
      "  \"price_range\": \"250-400\", \n",
      "  \"reason\": \"The price range for Ultra Wireless Noise Cancelling Headphones with Spatial Audio, Over-the-Ear Headphones with Mic, and Up to 24 Hours of Battery Life is estimated to be between $250 and $400. This price range is derived from the analysis of similar products found on the internet, including Technics Wireless Noise Cancelling Over Ear Headphones EAH-A800, Bose Wireless Noise Canceling Over-ear QuietComfort Ultra Headphones, and Bose Noise Cancelling Over-the-Ear QuietComfort Ultra Wireless Noise Cancelling Headphones. These products have similar specifications and features, and their prices range from $249.99 to $379.00.\"\n",
      "}</s>\u001b[0m\n",
      "\n",
      "\u001b[1m> Finished chain.\u001b[0m\n"
     ]
    }
   ],
   "source": [
    "# Get response\n",
    "response = serp_agent_executor.invoke(\n",
    "    {\n",
    "        \"input\": f\"what is the estimated, accurate and compact price range of a/an {description}?\"\n",
    "    }\n",
    ")"
   ]
  },
  {
   "cell_type": "code",
   "execution_count": 21,
   "metadata": {},
   "outputs": [],
   "source": [
    "# Get output\n",
    "output_str = response[\"output\"]\n",
    "intermediate_steps = response[\"intermediate_steps\"]\n",
    "\n",
    "try:\n",
    "    price_dict = json.loads(output_str)\n",
    "    price_range = price_dict[\"price_range\"]\n",
    "    reason = price_dict[\"reason\"]\n",
    "\n",
    "except:\n",
    "    end_index = output_str.find(\"}\") + 1\n",
    "\n",
    "    # Extract the substring containing the dictionary\n",
    "    dict_string = output_str[:end_index]\n",
    "\n",
    "    # Parse the dictionary string using json.loads()\n",
    "    price_dict = json.loads(dict_string)\n",
    "    price_range = price_dict[\"price_range\"]\n",
    "    reason = price_dict[\"reason\"]"
   ]
  },
  {
   "cell_type": "code",
   "execution_count": 56,
   "metadata": {},
   "outputs": [],
   "source": [
    "# Make LLM call\n",
    "relevance_prompt_to_llm = relevance_prompt.format(\n",
    "    price_range_response=reason,\n",
    "    price_range=price_range,\n",
    "    intermediate_steps=intermediate_steps,\n",
    ")"
   ]
  },
  {
   "cell_type": "code",
   "execution_count": 57,
   "metadata": {},
   "outputs": [],
   "source": [
    "# Call the llm\n",
    "evaluation = gemini.invoke(relevance_prompt_to_llm)"
   ]
  },
  {
   "cell_type": "code",
   "execution_count": 59,
   "metadata": {},
   "outputs": [
    {
     "name": "stdout",
     "output_type": "stream",
     "text": [
      "Score: 85\n",
      "\n",
      "Reasoning:\n",
      "Clarity: The provided price range is clear and specific, indicating a range of $250 to $400. (10/10)\n",
      "\n",
      "Justification: The response provides a logical and well-explained justification for the price range. It mentions that the price range is derived from the analysis of similar products found on the internet, including Technics Wireless Noise Cancelling Over Ear Headphones EAH-A800, Bose Wireless Noise Canceling Over-ear QuietComfort Ultra Headphones, and Bose Noise Cancelling Over-the-Ear QuietComfort Ultra Wireless Noise Cancelling Headphones. These products have similar specifications and features, and their prices range from $249.99 to $379.00. (10/10)\n",
      "\n",
      "Completeness: The response covers all relevant factors that could influence pricing, including the features and specifications of the product, as well as the prices of similar products on the market. (10/10)\n",
      "\n",
      "Accuracy: The price range seems reasonable and aligns with market rates based on the provided examples. The prices of similar products mentioned in the justification range from $249.99 to $379.00, which falls within the given price range of $250 to $400. (10/10)\n",
      "\n",
      "Level of Detail: The reasoning is sufficiently detailed and provides a clear understanding of the factors that influenced the price range. It mentions the specific features and specifications of the product, as well as the prices of similar products on the market. (10/10)\n",
      "\n",
      "Step Validity: The intermediate steps taken to arrive at the price range are valid and logical. The response first searches for similar products on the internet and then analyzes their prices to determine the price range for the given product. (10/10)\n",
      "\n",
      "Step Completeness: The steps cover all the necessary considerations for determining an appropriate price range. The response considers the features and specifications of the product, as well as the prices of similar products on the market. (10/10)\n"
     ]
    }
   ],
   "source": [
    "# Print out the evaluation results\n",
    "\n",
    "score_match = re.search(r\"Score: (\\d+)\", evaluation.content)\n",
    "if score_match:\n",
    "    score = int(score_match.group(1))\n",
    "    print(f\"Score: {score}\")\n",
    "\n",
    "# Extract the reasoning\n",
    "reasoning_start = evaluation.content.find(\"Reasoning:\") + len(\"Reasoning:\")\n",
    "reasoning_end = evaluation.content.rfind(\"Overall\")\n",
    "reasoning = evaluation.content[reasoning_start:reasoning_end].strip()\n",
    "print(\"\\nReasoning:\")\n",
    "print(reasoning)"
   ]
  }
 ],
 "metadata": {
  "kernelspec": {
   "display_name": ".venv",
   "language": "python",
   "name": "python3"
  },
  "language_info": {
   "codemirror_mode": {
    "name": "ipython",
    "version": 3
   },
   "file_extension": ".py",
   "mimetype": "text/x-python",
   "name": "python",
   "nbconvert_exporter": "python",
   "pygments_lexer": "ipython3",
   "version": "3.11.5"
  }
 },
 "nbformat": 4,
 "nbformat_minor": 2
}
