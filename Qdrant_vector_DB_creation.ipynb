{
 "cells": [
  {
   "cell_type": "markdown",
   "id": "7833a3ec",
   "metadata": {},
   "source": [
    "# Creation of Qdrant vector database"
   ]
  },
  {
   "cell_type": "markdown",
   "id": "e59eb7bd",
   "metadata": {},
   "source": [
    "#### Contributors:\n",
    "- Victor Onuorah <onuorahvc@gmail.com>\n",
    "- Yunmo Koo <yunmokoo7@gmail.com>\n",
    "- Trung Nguyen\n",
    "\n",
    "This notebook is worked on collaboratively by the contributors listed above."
   ]
  },
  {
   "cell_type": "markdown",
   "id": "706f6bce",
   "metadata": {},
   "source": [
    "When creating a vector dataset, the vector length is 512 for this notebook's OpenCLIP embedding function.\n",
    "\n",
    "Apparel_dataset:\n",
    "https://drive.google.com/drive/folders/17C-s4r774ons6z3CtCDsh8jH47p4_4PK?usp=sharing\n",
    "\n",
    "Apparel_dataset_backup:\n",
    "https://drive.google.com/drive/folders/13RcaFBXFwp7luImU771e9ONBwN1pEUlP?usp=sharing"
   ]
  },
  {
   "cell_type": "markdown",
   "id": "3ed38be3",
   "metadata": {},
   "source": [
    "### First section will create a image collection, second section will create a text collection.\n",
    "\n",
    "1. Download apparel_products.csv\n",
    "\n",
    "        In this notebook, \"apparel_products_50k.csv\" is used\n",
    "\n",
    "2. Download apparel_images folder\n",
    "\n",
    "        In this notebook, 50k apparel_image folder is used"
   ]
  },
  {
   "cell_type": "markdown",
   "id": "3bfa6cfe",
   "metadata": {},
   "source": [
    "#### Start of the first section."
   ]
  },
  {
   "cell_type": "code",
   "execution_count": 9,
   "id": "f4372b78",
   "metadata": {},
   "outputs": [],
   "source": [
    "import pandas as pd\n",
    "df = pd.read_csv(r\"<--path to apparel csv-->\")"
   ]
  },
  {
   "cell_type": "code",
   "execution_count": 10,
   "id": "e6b2b634",
   "metadata": {},
   "outputs": [
    {
     "data": {
      "text/html": [
       "<div>\n",
       "<style scoped>\n",
       "    .dataframe tbody tr th:only-of-type {\n",
       "        vertical-align: middle;\n",
       "    }\n",
       "\n",
       "    .dataframe tbody tr th {\n",
       "        vertical-align: top;\n",
       "    }\n",
       "\n",
       "    .dataframe thead th {\n",
       "        text-align: right;\n",
       "    }\n",
       "</style>\n",
       "<table border=\"1\" class=\"dataframe\">\n",
       "  <thead>\n",
       "    <tr style=\"text-align: right;\">\n",
       "      <th></th>\n",
       "      <th>asin</th>\n",
       "      <th>title</th>\n",
       "      <th>imgName</th>\n",
       "      <th>price</th>\n",
       "      <th>category_id</th>\n",
       "      <th>imgUrl</th>\n",
       "      <th>productURL</th>\n",
       "    </tr>\n",
       "  </thead>\n",
       "  <tbody>\n",
       "    <tr>\n",
       "      <th>0</th>\n",
       "      <td>B00W66LQFO</td>\n",
       "      <td>Men's Eversoft Cotton Stay Tucked Crew T-Shirt</td>\n",
       "      <td>B00W66LQFO.jpg</td>\n",
       "      <td>18.48</td>\n",
       "      <td>110</td>\n",
       "      <td>https://m.media-amazon.com/images/I/513fraGQXW...</td>\n",
       "      <td>https://www.amazon.com/dp/B00W66LQFO</td>\n",
       "    </tr>\n",
       "    <tr>\n",
       "      <th>1</th>\n",
       "      <td>B0C4RMF5PZ</td>\n",
       "      <td>Official Renaissance World Tour Merch Disco Co...</td>\n",
       "      <td>B0C4RMF5PZ.jpg</td>\n",
       "      <td>40.00</td>\n",
       "      <td>110</td>\n",
       "      <td>https://m.media-amazon.com/images/I/71Uxhfi5KQ...</td>\n",
       "      <td>https://www.amazon.com/dp/B0C4RMF5PZ</td>\n",
       "    </tr>\n",
       "    <tr>\n",
       "      <th>2</th>\n",
       "      <td>B01ABVLOHA</td>\n",
       "      <td>Performance Lightweight Crew Training Socks (3...</td>\n",
       "      <td>B01ABVLOHA.jpg</td>\n",
       "      <td>17.90</td>\n",
       "      <td>110</td>\n",
       "      <td>https://m.media-amazon.com/images/I/71XHPuLiHV...</td>\n",
       "      <td>https://www.amazon.com/dp/B01ABVLOHA</td>\n",
       "    </tr>\n",
       "    <tr>\n",
       "      <th>3</th>\n",
       "      <td>B086KSDTQ4</td>\n",
       "      <td>Men's Boxer Briefs, Soft and Breathable Cotton...</td>\n",
       "      <td>B086KSDTQ4.jpg</td>\n",
       "      <td>21.98</td>\n",
       "      <td>110</td>\n",
       "      <td>https://m.media-amazon.com/images/I/81ZBOce1Ww...</td>\n",
       "      <td>https://www.amazon.com/dp/B086KSDTQ4</td>\n",
       "    </tr>\n",
       "    <tr>\n",
       "      <th>4</th>\n",
       "      <td>B09LLW2Q4R</td>\n",
       "      <td>Hooded Rain Poncho for Adult with Pocket, Wate...</td>\n",
       "      <td>B09LLW2Q4R.jpg</td>\n",
       "      <td>16.95</td>\n",
       "      <td>110</td>\n",
       "      <td>https://m.media-amazon.com/images/I/61nQuejTUG...</td>\n",
       "      <td>https://www.amazon.com/dp/B09LLW2Q4R</td>\n",
       "    </tr>\n",
       "    <tr>\n",
       "      <th>...</th>\n",
       "      <td>...</td>\n",
       "      <td>...</td>\n",
       "      <td>...</td>\n",
       "      <td>...</td>\n",
       "      <td>...</td>\n",
       "      <td>...</td>\n",
       "      <td>...</td>\n",
       "    </tr>\n",
       "    <tr>\n",
       "      <th>49995</th>\n",
       "      <td>B079Q4C2YC</td>\n",
       "      <td>Women's On-The-go 600-Brilliancy Sport Sandal,...</td>\n",
       "      <td>B079Q4C2YC.jpg</td>\n",
       "      <td>42.53</td>\n",
       "      <td>122</td>\n",
       "      <td>https://m.media-amazon.com/images/I/81jOFKvd8P...</td>\n",
       "      <td>https://www.amazon.com/dp/B079Q4C2YC</td>\n",
       "    </tr>\n",
       "    <tr>\n",
       "      <th>49996</th>\n",
       "      <td>B0C2VJLF39</td>\n",
       "      <td>Black Heels for Women Strappy Closed Toe Platf...</td>\n",
       "      <td>B0C2VJLF39.jpg</td>\n",
       "      <td>39.99</td>\n",
       "      <td>122</td>\n",
       "      <td>https://m.media-amazon.com/images/I/61-l25ZXbH...</td>\n",
       "      <td>https://www.amazon.com/dp/B0C2VJLF39</td>\n",
       "    </tr>\n",
       "    <tr>\n",
       "      <th>49997</th>\n",
       "      <td>B0BNL1SZS3</td>\n",
       "      <td>Womens Open Toe Ankle Tie Back Low Block Chunk...</td>\n",
       "      <td>B0BNL1SZS3.jpg</td>\n",
       "      <td>49.98</td>\n",
       "      <td>122</td>\n",
       "      <td>https://m.media-amazon.com/images/I/61UJ6s+yvW...</td>\n",
       "      <td>https://www.amazon.com/dp/B0BNL1SZS3</td>\n",
       "    </tr>\n",
       "    <tr>\n",
       "      <th>49998</th>\n",
       "      <td>B07PZ8R8WF</td>\n",
       "      <td>Women's 'Original 108' Wool Clog with Cork Sol...</td>\n",
       "      <td>B07PZ8R8WF.jpg</td>\n",
       "      <td>145.00</td>\n",
       "      <td>122</td>\n",
       "      <td>https://m.media-amazon.com/images/I/61ahMep5JD...</td>\n",
       "      <td>https://www.amazon.com/dp/B07PZ8R8WF</td>\n",
       "    </tr>\n",
       "    <tr>\n",
       "      <th>49999</th>\n",
       "      <td>B08LPT96Q6</td>\n",
       "      <td>Women's Pointed-Toe Sling Back Flat</td>\n",
       "      <td>B08LPT96Q6.jpg</td>\n",
       "      <td>18.32</td>\n",
       "      <td>122</td>\n",
       "      <td>https://m.media-amazon.com/images/I/71uFzTtz2w...</td>\n",
       "      <td>https://www.amazon.com/dp/B08LPT96Q6</td>\n",
       "    </tr>\n",
       "  </tbody>\n",
       "</table>\n",
       "<p>50000 rows × 7 columns</p>\n",
       "</div>"
      ],
      "text/plain": [
       "             asin                                              title  \\\n",
       "0      B00W66LQFO     Men's Eversoft Cotton Stay Tucked Crew T-Shirt   \n",
       "1      B0C4RMF5PZ  Official Renaissance World Tour Merch Disco Co...   \n",
       "2      B01ABVLOHA  Performance Lightweight Crew Training Socks (3...   \n",
       "3      B086KSDTQ4  Men's Boxer Briefs, Soft and Breathable Cotton...   \n",
       "4      B09LLW2Q4R  Hooded Rain Poncho for Adult with Pocket, Wate...   \n",
       "...           ...                                                ...   \n",
       "49995  B079Q4C2YC  Women's On-The-go 600-Brilliancy Sport Sandal,...   \n",
       "49996  B0C2VJLF39  Black Heels for Women Strappy Closed Toe Platf...   \n",
       "49997  B0BNL1SZS3  Womens Open Toe Ankle Tie Back Low Block Chunk...   \n",
       "49998  B07PZ8R8WF  Women's 'Original 108' Wool Clog with Cork Sol...   \n",
       "49999  B08LPT96Q6                Women's Pointed-Toe Sling Back Flat   \n",
       "\n",
       "              imgName   price  category_id  \\\n",
       "0      B00W66LQFO.jpg   18.48          110   \n",
       "1      B0C4RMF5PZ.jpg   40.00          110   \n",
       "2      B01ABVLOHA.jpg   17.90          110   \n",
       "3      B086KSDTQ4.jpg   21.98          110   \n",
       "4      B09LLW2Q4R.jpg   16.95          110   \n",
       "...               ...     ...          ...   \n",
       "49995  B079Q4C2YC.jpg   42.53          122   \n",
       "49996  B0C2VJLF39.jpg   39.99          122   \n",
       "49997  B0BNL1SZS3.jpg   49.98          122   \n",
       "49998  B07PZ8R8WF.jpg  145.00          122   \n",
       "49999  B08LPT96Q6.jpg   18.32          122   \n",
       "\n",
       "                                                  imgUrl  \\\n",
       "0      https://m.media-amazon.com/images/I/513fraGQXW...   \n",
       "1      https://m.media-amazon.com/images/I/71Uxhfi5KQ...   \n",
       "2      https://m.media-amazon.com/images/I/71XHPuLiHV...   \n",
       "3      https://m.media-amazon.com/images/I/81ZBOce1Ww...   \n",
       "4      https://m.media-amazon.com/images/I/61nQuejTUG...   \n",
       "...                                                  ...   \n",
       "49995  https://m.media-amazon.com/images/I/81jOFKvd8P...   \n",
       "49996  https://m.media-amazon.com/images/I/61-l25ZXbH...   \n",
       "49997  https://m.media-amazon.com/images/I/61UJ6s+yvW...   \n",
       "49998  https://m.media-amazon.com/images/I/61ahMep5JD...   \n",
       "49999  https://m.media-amazon.com/images/I/71uFzTtz2w...   \n",
       "\n",
       "                                 productURL  \n",
       "0      https://www.amazon.com/dp/B00W66LQFO  \n",
       "1      https://www.amazon.com/dp/B0C4RMF5PZ  \n",
       "2      https://www.amazon.com/dp/B01ABVLOHA  \n",
       "3      https://www.amazon.com/dp/B086KSDTQ4  \n",
       "4      https://www.amazon.com/dp/B09LLW2Q4R  \n",
       "...                                     ...  \n",
       "49995  https://www.amazon.com/dp/B079Q4C2YC  \n",
       "49996  https://www.amazon.com/dp/B0C2VJLF39  \n",
       "49997  https://www.amazon.com/dp/B0BNL1SZS3  \n",
       "49998  https://www.amazon.com/dp/B07PZ8R8WF  \n",
       "49999  https://www.amazon.com/dp/B08LPT96Q6  \n",
       "\n",
       "[50000 rows x 7 columns]"
      ]
     },
     "execution_count": 10,
     "metadata": {},
     "output_type": "execute_result"
    }
   ],
   "source": [
    "df"
   ]
  },
  {
   "cell_type": "code",
   "execution_count": 8,
   "id": "67dd3c8b-a8a6-4fc6-b71b-de961710f1f0",
   "metadata": {
    "tags": []
   },
   "outputs": [],
   "source": [
    "# Dropping unrelated columns\n",
    "columns_to_drop = ['category_id', 'productURL']\n",
    "\n",
    "df.drop(columns=columns_to_drop, inplace=True)"
   ]
  },
  {
   "cell_type": "code",
   "execution_count": 4,
   "id": "84dfddc5-21d7-41f2-ad01-3edc57d0b8c7",
   "metadata": {
    "tags": []
   },
   "outputs": [
    {
     "data": {
      "text/plain": [
       "'https://m.media-amazon.com/images/I/513fraGQXWL._AC_UL320_.jpg'"
      ]
     },
     "execution_count": 4,
     "metadata": {},
     "output_type": "execute_result"
    }
   ],
   "source": [
    "df.iloc[0][\"imgUrl\"]"
   ]
  },
  {
   "cell_type": "code",
   "execution_count": 6,
   "id": "855aaf26",
   "metadata": {},
   "outputs": [],
   "source": [
    "from typing import Optional\n",
    "import os\n",
    "import numpy as np\n",
    "\n",
    "def use_local_file(url: str) -> Optional[str]:\n",
    "    try:\n",
    "        basename = os.path.basename(url)\n",
    "        # in example, f\"C:\\\\Users\\\\...\\\\...\\\\apparel_images\\\\{basename}\"\n",
    "        local_path = f\"<--path to apparel_images folder-->{basename}\"\n",
    "\n",
    "        # Check if the file exists locally\n",
    "        if os.path.exists(local_path):\n",
    "            return local_path\n",
    "        else:\n",
    "            print(f\"File {local_path} does not exist locally.\")\n",
    "            return None\n",
    "    except Exception as e:\n",
    "        print(f\"Error processing {url}: {e}\")\n",
    "        return None\n",
    "\n",
    "# using \"imgName\" column in df, it locates local images and assigns it accordingly.\n",
    "df[\"LocalImage\"] = df[\"imgName\"].apply(use_local_file).replace({None: np.nan})\n"
   ]
  },
  {
   "cell_type": "code",
   "execution_count": 7,
   "id": "a6e4e18c",
   "metadata": {},
   "outputs": [
    {
     "data": {
      "text/html": [
       "<div>\n",
       "<style scoped>\n",
       "    .dataframe tbody tr th:only-of-type {\n",
       "        vertical-align: middle;\n",
       "    }\n",
       "\n",
       "    .dataframe tbody tr th {\n",
       "        vertical-align: top;\n",
       "    }\n",
       "\n",
       "    .dataframe thead th {\n",
       "        text-align: right;\n",
       "    }\n",
       "</style>\n",
       "<table border=\"1\" class=\"dataframe\">\n",
       "  <thead>\n",
       "    <tr style=\"text-align: right;\">\n",
       "      <th></th>\n",
       "      <th>asin</th>\n",
       "      <th>title</th>\n",
       "      <th>imgName</th>\n",
       "      <th>price</th>\n",
       "      <th>imgUrl</th>\n",
       "      <th>LocalImage</th>\n",
       "    </tr>\n",
       "  </thead>\n",
       "  <tbody>\n",
       "    <tr>\n",
       "      <th>0</th>\n",
       "      <td>B00W66LQFO</td>\n",
       "      <td>Men's Eversoft Cotton Stay Tucked Crew T-Shirt</td>\n",
       "      <td>B00W66LQFO.jpg</td>\n",
       "      <td>18.48</td>\n",
       "      <td>https://m.media-amazon.com/images/I/513fraGQXW...</td>\n",
       "      <td>C:\\Users\\MySummerPC\\Desktop\\apparel_images\\B00...</td>\n",
       "    </tr>\n",
       "    <tr>\n",
       "      <th>1</th>\n",
       "      <td>B0C4RMF5PZ</td>\n",
       "      <td>Official Renaissance World Tour Merch Disco Co...</td>\n",
       "      <td>B0C4RMF5PZ.jpg</td>\n",
       "      <td>40.00</td>\n",
       "      <td>https://m.media-amazon.com/images/I/71Uxhfi5KQ...</td>\n",
       "      <td>C:\\Users\\MySummerPC\\Desktop\\apparel_images\\B0C...</td>\n",
       "    </tr>\n",
       "    <tr>\n",
       "      <th>2</th>\n",
       "      <td>B01ABVLOHA</td>\n",
       "      <td>Performance Lightweight Crew Training Socks (3...</td>\n",
       "      <td>B01ABVLOHA.jpg</td>\n",
       "      <td>17.90</td>\n",
       "      <td>https://m.media-amazon.com/images/I/71XHPuLiHV...</td>\n",
       "      <td>C:\\Users\\MySummerPC\\Desktop\\apparel_images\\B01...</td>\n",
       "    </tr>\n",
       "    <tr>\n",
       "      <th>3</th>\n",
       "      <td>B086KSDTQ4</td>\n",
       "      <td>Men's Boxer Briefs, Soft and Breathable Cotton...</td>\n",
       "      <td>B086KSDTQ4.jpg</td>\n",
       "      <td>21.98</td>\n",
       "      <td>https://m.media-amazon.com/images/I/81ZBOce1Ww...</td>\n",
       "      <td>C:\\Users\\MySummerPC\\Desktop\\apparel_images\\B08...</td>\n",
       "    </tr>\n",
       "    <tr>\n",
       "      <th>4</th>\n",
       "      <td>B09LLW2Q4R</td>\n",
       "      <td>Hooded Rain Poncho for Adult with Pocket, Wate...</td>\n",
       "      <td>B09LLW2Q4R.jpg</td>\n",
       "      <td>16.95</td>\n",
       "      <td>https://m.media-amazon.com/images/I/61nQuejTUG...</td>\n",
       "      <td>C:\\Users\\MySummerPC\\Desktop\\apparel_images\\B09...</td>\n",
       "    </tr>\n",
       "    <tr>\n",
       "      <th>...</th>\n",
       "      <td>...</td>\n",
       "      <td>...</td>\n",
       "      <td>...</td>\n",
       "      <td>...</td>\n",
       "      <td>...</td>\n",
       "      <td>...</td>\n",
       "    </tr>\n",
       "    <tr>\n",
       "      <th>49995</th>\n",
       "      <td>B079Q4C2YC</td>\n",
       "      <td>Women's On-The-go 600-Brilliancy Sport Sandal,...</td>\n",
       "      <td>B079Q4C2YC.jpg</td>\n",
       "      <td>42.53</td>\n",
       "      <td>https://m.media-amazon.com/images/I/81jOFKvd8P...</td>\n",
       "      <td>C:\\Users\\MySummerPC\\Desktop\\apparel_images\\B07...</td>\n",
       "    </tr>\n",
       "    <tr>\n",
       "      <th>49996</th>\n",
       "      <td>B0C2VJLF39</td>\n",
       "      <td>Black Heels for Women Strappy Closed Toe Platf...</td>\n",
       "      <td>B0C2VJLF39.jpg</td>\n",
       "      <td>39.99</td>\n",
       "      <td>https://m.media-amazon.com/images/I/61-l25ZXbH...</td>\n",
       "      <td>C:\\Users\\MySummerPC\\Desktop\\apparel_images\\B0C...</td>\n",
       "    </tr>\n",
       "    <tr>\n",
       "      <th>49997</th>\n",
       "      <td>B0BNL1SZS3</td>\n",
       "      <td>Womens Open Toe Ankle Tie Back Low Block Chunk...</td>\n",
       "      <td>B0BNL1SZS3.jpg</td>\n",
       "      <td>49.98</td>\n",
       "      <td>https://m.media-amazon.com/images/I/61UJ6s+yvW...</td>\n",
       "      <td>C:\\Users\\MySummerPC\\Desktop\\apparel_images\\B0B...</td>\n",
       "    </tr>\n",
       "    <tr>\n",
       "      <th>49998</th>\n",
       "      <td>B07PZ8R8WF</td>\n",
       "      <td>Women's 'Original 108' Wool Clog with Cork Sol...</td>\n",
       "      <td>B07PZ8R8WF.jpg</td>\n",
       "      <td>145.00</td>\n",
       "      <td>https://m.media-amazon.com/images/I/61ahMep5JD...</td>\n",
       "      <td>C:\\Users\\MySummerPC\\Desktop\\apparel_images\\B07...</td>\n",
       "    </tr>\n",
       "    <tr>\n",
       "      <th>49999</th>\n",
       "      <td>B08LPT96Q6</td>\n",
       "      <td>Women's Pointed-Toe Sling Back Flat</td>\n",
       "      <td>B08LPT96Q6.jpg</td>\n",
       "      <td>18.32</td>\n",
       "      <td>https://m.media-amazon.com/images/I/71uFzTtz2w...</td>\n",
       "      <td>C:\\Users\\MySummerPC\\Desktop\\apparel_images\\B08...</td>\n",
       "    </tr>\n",
       "  </tbody>\n",
       "</table>\n",
       "<p>50000 rows × 6 columns</p>\n",
       "</div>"
      ],
      "text/plain": [
       "             asin                                              title  \\\n",
       "0      B00W66LQFO     Men's Eversoft Cotton Stay Tucked Crew T-Shirt   \n",
       "1      B0C4RMF5PZ  Official Renaissance World Tour Merch Disco Co...   \n",
       "2      B01ABVLOHA  Performance Lightweight Crew Training Socks (3...   \n",
       "3      B086KSDTQ4  Men's Boxer Briefs, Soft and Breathable Cotton...   \n",
       "4      B09LLW2Q4R  Hooded Rain Poncho for Adult with Pocket, Wate...   \n",
       "...           ...                                                ...   \n",
       "49995  B079Q4C2YC  Women's On-The-go 600-Brilliancy Sport Sandal,...   \n",
       "49996  B0C2VJLF39  Black Heels for Women Strappy Closed Toe Platf...   \n",
       "49997  B0BNL1SZS3  Womens Open Toe Ankle Tie Back Low Block Chunk...   \n",
       "49998  B07PZ8R8WF  Women's 'Original 108' Wool Clog with Cork Sol...   \n",
       "49999  B08LPT96Q6                Women's Pointed-Toe Sling Back Flat   \n",
       "\n",
       "              imgName   price  \\\n",
       "0      B00W66LQFO.jpg   18.48   \n",
       "1      B0C4RMF5PZ.jpg   40.00   \n",
       "2      B01ABVLOHA.jpg   17.90   \n",
       "3      B086KSDTQ4.jpg   21.98   \n",
       "4      B09LLW2Q4R.jpg   16.95   \n",
       "...               ...     ...   \n",
       "49995  B079Q4C2YC.jpg   42.53   \n",
       "49996  B0C2VJLF39.jpg   39.99   \n",
       "49997  B0BNL1SZS3.jpg   49.98   \n",
       "49998  B07PZ8R8WF.jpg  145.00   \n",
       "49999  B08LPT96Q6.jpg   18.32   \n",
       "\n",
       "                                                  imgUrl  \\\n",
       "0      https://m.media-amazon.com/images/I/513fraGQXW...   \n",
       "1      https://m.media-amazon.com/images/I/71Uxhfi5KQ...   \n",
       "2      https://m.media-amazon.com/images/I/71XHPuLiHV...   \n",
       "3      https://m.media-amazon.com/images/I/81ZBOce1Ww...   \n",
       "4      https://m.media-amazon.com/images/I/61nQuejTUG...   \n",
       "...                                                  ...   \n",
       "49995  https://m.media-amazon.com/images/I/81jOFKvd8P...   \n",
       "49996  https://m.media-amazon.com/images/I/61-l25ZXbH...   \n",
       "49997  https://m.media-amazon.com/images/I/61UJ6s+yvW...   \n",
       "49998  https://m.media-amazon.com/images/I/61ahMep5JD...   \n",
       "49999  https://m.media-amazon.com/images/I/71uFzTtz2w...   \n",
       "\n",
       "                                              LocalImage  \n",
       "0      C:\\Users\\MySummerPC\\Desktop\\apparel_images\\B00...  \n",
       "1      C:\\Users\\MySummerPC\\Desktop\\apparel_images\\B0C...  \n",
       "2      C:\\Users\\MySummerPC\\Desktop\\apparel_images\\B01...  \n",
       "3      C:\\Users\\MySummerPC\\Desktop\\apparel_images\\B08...  \n",
       "4      C:\\Users\\MySummerPC\\Desktop\\apparel_images\\B09...  \n",
       "...                                                  ...  \n",
       "49995  C:\\Users\\MySummerPC\\Desktop\\apparel_images\\B07...  \n",
       "49996  C:\\Users\\MySummerPC\\Desktop\\apparel_images\\B0C...  \n",
       "49997  C:\\Users\\MySummerPC\\Desktop\\apparel_images\\B0B...  \n",
       "49998  C:\\Users\\MySummerPC\\Desktop\\apparel_images\\B07...  \n",
       "49999  C:\\Users\\MySummerPC\\Desktop\\apparel_images\\B08...  \n",
       "\n",
       "[50000 rows x 6 columns]"
      ]
     },
     "execution_count": 7,
     "metadata": {},
     "output_type": "execute_result"
    }
   ],
   "source": [
    "df"
   ]
  },
  {
   "cell_type": "code",
   "execution_count": 8,
   "id": "bfbc2394-168b-4637-8ee7-81adec89f498",
   "metadata": {
    "tags": []
   },
   "outputs": [],
   "source": [
    "from sentence_transformers import SentenceTransformer\n",
    "from PIL import Image\n",
    "\n",
    "model = SentenceTransformer(\"clip-ViT-B-32\")"
   ]
  },
  {
   "cell_type": "code",
   "execution_count": 9,
   "id": "ebe294fb-6ba6-40b6-b15d-3d77a3835b03",
   "metadata": {
    "tags": []
   },
   "outputs": [
    {
     "data": {
      "image/jpeg": "[encoded data removed]",
      "image/png": "[encoded data removed]",
      "text/plain": [
       "<PIL.JpegImagePlugin.JpegImageFile image mode=RGB size=223x320>"
      ]
     },
     "execution_count": 9,
     "metadata": {},
     "output_type": "execute_result"
    }
   ],
   "source": [
    "image = Image.open(df.iloc[0][\"LocalImage\"])\n",
    "image"
   ]
  },
  {
   "cell_type": "code",
   "execution_count": 10,
   "id": "20521a80-debe-4ca8-8a59-a710426042f7",
   "metadata": {
    "tags": []
   },
   "outputs": [
    {
     "data": {
      "text/plain": [
       "(512,)"
      ]
     },
     "execution_count": 10,
     "metadata": {},
     "output_type": "execute_result"
    }
   ],
   "source": [
    "image_embedding = model.encode(image)\n",
    "# shape of the embedding will return the vector length.\n",
    "image_embedding.shape"
   ]
  },
  {
   "cell_type": "markdown",
   "id": "c0d11201",
   "metadata": {},
   "source": [
    "### Below, the 50k products are segmented into chunks of 5k products to prevent heavy loads."
   ]
  },
  {
   "cell_type": "code",
   "execution_count": 10,
   "id": "d16dbe18",
   "metadata": {},
   "outputs": [],
   "source": [
    "df_subset1 = df.iloc[:5000]"
   ]
  },
  {
   "cell_type": "code",
   "execution_count": 54,
   "id": "ab41c4e2",
   "metadata": {},
   "outputs": [],
   "source": [
    "df_subset2 = df.iloc[5000:10000]"
   ]
  },
  {
   "cell_type": "code",
   "execution_count": 55,
   "id": "ecb711ef",
   "metadata": {},
   "outputs": [],
   "source": [
    "df_subset3 = df.iloc[10000:15000]"
   ]
  },
  {
   "cell_type": "code",
   "execution_count": 56,
   "id": "5cdd6516",
   "metadata": {},
   "outputs": [],
   "source": [
    "df_subset4 = df.iloc[15000:20000]"
   ]
  },
  {
   "cell_type": "code",
   "execution_count": 57,
   "id": "75cf4aee",
   "metadata": {},
   "outputs": [],
   "source": [
    "df_subset5 = df.iloc[20000:25000]"
   ]
  },
  {
   "cell_type": "code",
   "execution_count": 74,
   "id": "3d582d98",
   "metadata": {},
   "outputs": [],
   "source": [
    "df_subset6 = df.iloc[25000:30000]"
   ]
  },
  {
   "cell_type": "code",
   "execution_count": 75,
   "id": "4f4fa4dd",
   "metadata": {},
   "outputs": [],
   "source": [
    "df_subset7 = df.iloc[30000:35000]"
   ]
  },
  {
   "cell_type": "code",
   "execution_count": 76,
   "id": "42f9bb8d",
   "metadata": {},
   "outputs": [],
   "source": [
    "df_subset8 = df.iloc[35000:40000]"
   ]
  },
  {
   "cell_type": "code",
   "execution_count": 77,
   "id": "5bcfaabb",
   "metadata": {},
   "outputs": [],
   "source": [
    "df_subset9 = df.iloc[40000:45000]"
   ]
  },
  {
   "cell_type": "code",
   "execution_count": 78,
   "id": "d9053fd3",
   "metadata": {},
   "outputs": [],
   "source": [
    "df_subset10 = df.iloc[45000:50000]"
   ]
  },
  {
   "cell_type": "markdown",
   "id": "ba4bee97",
   "metadata": {},
   "source": [
    "#### Embedding the images"
   ]
  },
  {
   "cell_type": "code",
   "execution_count": 11,
   "id": "972aa475",
   "metadata": {},
   "outputs": [],
   "source": [
    "def calculate_df(df):\n",
    "    df.loc[:, \"Embedding\"] = df[\"LocalImage\"].map(calculate_embedding)\n",
    "    df.loc[:, \"Embedding\"] = df[\"Embedding\"].replace({None: np.nan})\n",
    "    df = df.dropna(subset=[\"Embedding\"])\n",
    "    \n",
    "    return df"
   ]
  },
  {
   "cell_type": "code",
   "execution_count": null,
   "id": "b08ace1e",
   "metadata": {
    "scrolled": false
   },
   "outputs": [],
   "source": [
    "df_subset1 = calculate_df(df_subset1)"
   ]
  },
  {
   "cell_type": "code",
   "execution_count": null,
   "id": "7a6c6efa",
   "metadata": {
    "scrolled": true
   },
   "outputs": [],
   "source": [
    "df_subset2 = calculate_df(df_subset2)"
   ]
  },
  {
   "cell_type": "code",
   "execution_count": null,
   "id": "149648de",
   "metadata": {
    "scrolled": true
   },
   "outputs": [],
   "source": [
    "df_subset3 = calculate_df(df_subset3)"
   ]
  },
  {
   "cell_type": "code",
   "execution_count": null,
   "id": "316bd77c",
   "metadata": {},
   "outputs": [],
   "source": [
    "df_subset4 = calculate_df(df_subset4)"
   ]
  },
  {
   "cell_type": "code",
   "execution_count": null,
   "id": "f7544b12",
   "metadata": {},
   "outputs": [],
   "source": [
    "df_subset5 = calculate_df(df_subset5)"
   ]
  },
  {
   "cell_type": "code",
   "execution_count": null,
   "id": "bc3698a1",
   "metadata": {},
   "outputs": [],
   "source": [
    "df_subset6 = calculate_df(df_subset6)"
   ]
  },
  {
   "cell_type": "code",
   "execution_count": null,
   "id": "6b759d2d",
   "metadata": {},
   "outputs": [],
   "source": [
    "df_subset7 = calculate_df(df_subset7)"
   ]
  },
  {
   "cell_type": "code",
   "execution_count": null,
   "id": "dd14ea59",
   "metadata": {},
   "outputs": [],
   "source": [
    "df_subset8 = calculate_df(df_subset8)"
   ]
  },
  {
   "cell_type": "code",
   "execution_count": null,
   "id": "dabe36f3",
   "metadata": {},
   "outputs": [],
   "source": [
    "df_subset9 = calculate_df(df_subset9)"
   ]
  },
  {
   "cell_type": "code",
   "execution_count": null,
   "id": "88819b94",
   "metadata": {
    "scrolled": true
   },
   "outputs": [],
   "source": [
    "df_subset10 = calculate_df(df_subset10)"
   ]
  },
  {
   "cell_type": "markdown",
   "id": "3c26e840",
   "metadata": {},
   "source": [
    "#### Creation of image collection"
   ]
  },
  {
   "cell_type": "code",
   "execution_count": 14,
   "id": "15234e2e-71a0-4212-ba33-06c305f53fe1",
   "metadata": {
    "tags": []
   },
   "outputs": [],
   "source": [
    "from qdrant_client import QdrantClient\n",
    "from qdrant_client.http import models as rest\n",
    "from qdrant_client.models import VectorParams, Distance\n",
    "\n",
    "# The url for the Qdrant cluster is wrong if it starts like \"https://node...\"\n",
    "qdrant_client = QdrantClient(\n",
    "     url=\"<--url-->\", \n",
    "    api_key=\"<--api_key-->\",\n",
    ")"
   ]
  },
  {
   "cell_type": "code",
   "execution_count": null,
   "id": "fbefd207-276b-47e4-9fd1-396588cd521c",
   "metadata": {
    "tags": []
   },
   "outputs": [],
   "source": [
    "# name the collection\n",
    "collection_name = \"<--name of colleciton-->\"\n",
    "vectors_config = rest.VectorParams(size=512, distance=rest.Distance.COSINE)\n",
    "\n",
    "# Here, we use \".recreate_collection\" which overrwites existing collection with same same. Caution when executing.\n",
    "# Use \".create_collection\" instead to avoid overrwiting.\n",
    "try:\n",
    "    qdrant_client.recreate_collection(\n",
    "        collection_name=collection_name,\n",
    "        vectors_config=vectors_config,\n",
    "    )\n",
    "    print(f\"Collection '{collection_name}' created successfully.\")\n",
    "except Exception as e:\n",
    "    print(f\"Error creating collection: {e}\")"
   ]
  },
  {
   "cell_type": "markdown",
   "id": "72ab49c2",
   "metadata": {},
   "source": [
    "#### Payload creation\n",
    "\n",
    "        Payload is for specifying what information will be included on a datapoint."
   ]
  },
  {
   "cell_type": "code",
   "execution_count": 44,
   "id": "e9f9cb05",
   "metadata": {},
   "outputs": [],
   "source": [
    "def img_payload(df):\n",
    "    payloads = df[[\"asin\", \"title\", \"price\", \"imgUrl\"]] \\\n",
    "        .fillna(\"Unknown\") \\\n",
    "        .rename(columns={\"id\": \"ID\", \n",
    "                         \"product title\": \"Decription\", \n",
    "                         \"price\": \"Price\"}) \\\n",
    "        .to_dict(\"records\")\n",
    "    return payloads"
   ]
  },
  {
   "cell_type": "code",
   "execution_count": 45,
   "id": "11cd34ae",
   "metadata": {},
   "outputs": [],
   "source": [
    "import uuid\n",
    "\n",
    "def upload_coll(df, payloads):\n",
    "    df.reset_index(drop=True, inplace=True)\n",
    "    \n",
    "    qdrant_client.upload_collection(\n",
    "        collection_name=\"<--name of colleciton-->\",\n",
    "        vectors=list(map(list, df[\"Embedding\"].tolist())),\n",
    "        payload=payloads,\n",
    "        ids=[uuid.uuid4().hex for _ in payloads],\n",
    "    )"
   ]
  },
  {
   "cell_type": "code",
   "execution_count": null,
   "id": "b8e55ad3",
   "metadata": {},
   "outputs": [],
   "source": [
    "# Make sure to change the df_subset number accordingly.\n",
    "# If the dataset was separated like given example, the df_subset would be 1-10.\n",
    "\n",
    "pay = img_payload(df_subset1)\n",
    "\n",
    "upload_coll(df_subset1, pay)"
   ]
  },
  {
   "cell_type": "code",
   "execution_count": null,
   "id": "020769d3",
   "metadata": {},
   "outputs": [],
   "source": [
    "# Run this cell to confirm how many products are in the collection.\n",
    "qdrant_client.count(\"<--name of colleciton-->\")"
   ]
  },
  {
   "cell_type": "markdown",
   "id": "30dcb687",
   "metadata": {},
   "source": [
    "#### End of the first section.\n",
    "\n",
    "### The second section will create a text collection.\n",
    "\n",
    "        Procedure is similar to the image collection."
   ]
  },
  {
   "cell_type": "code",
   "execution_count": null,
   "id": "146ade85",
   "metadata": {},
   "outputs": [],
   "source": [
    "import pandas as pd\n",
    "df = pd.read_csv(r\"<--path to apparel csv-->\")"
   ]
  },
  {
   "cell_type": "code",
   "execution_count": null,
   "id": "2d070c4a",
   "metadata": {},
   "outputs": [],
   "source": [
    "df"
   ]
  },
  {
   "cell_type": "code",
   "execution_count": null,
   "id": "35a450d6",
   "metadata": {},
   "outputs": [],
   "source": [
    "# Dropping unrelated columns\n",
    "columns_to_drop = ['category_id', 'productURL', 'imgUrl', 'productURL', 'imgName']\n",
    "\n",
    "df.drop(columns=columns_to_drop, inplace=True)"
   ]
  },
  {
   "cell_type": "code",
   "execution_count": null,
   "id": "fac6a970",
   "metadata": {},
   "outputs": [],
   "source": [
    "from sentence_transformers import SentenceTransformer\n",
    "from PIL import Image\n",
    "\n",
    "model = SentenceTransformer(\"clip-ViT-B-32\")"
   ]
  },
  {
   "cell_type": "code",
   "execution_count": null,
   "id": "fbb400ab",
   "metadata": {},
   "outputs": [],
   "source": [
    "txt = df.iloc[0][\"title\"]\n",
    "txt"
   ]
  },
  {
   "cell_type": "code",
   "execution_count": null,
   "id": "2baf681f",
   "metadata": {},
   "outputs": [],
   "source": [
    "txt_embed = model.encode(txt)\n",
    "txt_embed.shape"
   ]
  },
  {
   "cell_type": "markdown",
   "id": "5eec5d6a",
   "metadata": {},
   "source": [
    "#### Below, the dataset is segmented. Same purpose as the image collection, it prevents heavy loads."
   ]
  },
  {
   "cell_type": "code",
   "execution_count": null,
   "id": "4a68b307",
   "metadata": {},
   "outputs": [],
   "source": [
    "df_subset1 = df.iloc[:10000]"
   ]
  },
  {
   "cell_type": "code",
   "execution_count": null,
   "id": "b7d12d8d",
   "metadata": {},
   "outputs": [],
   "source": [
    "df_subset2 = df.iloc[10000:20000]"
   ]
  },
  {
   "cell_type": "code",
   "execution_count": null,
   "id": "70da964c",
   "metadata": {},
   "outputs": [],
   "source": [
    "df_subset3 = df.iloc[20000:30000]"
   ]
  },
  {
   "cell_type": "code",
   "execution_count": null,
   "id": "5dd72b34",
   "metadata": {},
   "outputs": [],
   "source": [
    "df_subset4 = df.iloc[30000:40000]"
   ]
  },
  {
   "cell_type": "code",
   "execution_count": null,
   "id": "fc0efdec",
   "metadata": {},
   "outputs": [],
   "source": [
    "df_subset5 = df.iloc[40000:50000]"
   ]
  },
  {
   "cell_type": "markdown",
   "id": "e349c68b",
   "metadata": {},
   "source": [
    "#### Embedding the texts"
   ]
  },
  {
   "cell_type": "code",
   "execution_count": null,
   "id": "613d18da",
   "metadata": {},
   "outputs": [],
   "source": [
    "from typing import Optional, List\n",
    "import numpy as np\n",
    "\n",
    "def calculate_text_embedding(text: str) -> Optional[List[float]]:\n",
    "    try:\n",
    "        return model.encode(text).tolist()\n",
    "    except Exception as e:\n",
    "        print(f\"An error occurred: {e}\")\n",
    "        return None"
   ]
  },
  {
   "cell_type": "code",
   "execution_count": null,
   "id": "b587a60a",
   "metadata": {},
   "outputs": [],
   "source": [
    "def calculate_df(df):\n",
    "    # Apply calculate_text_embedding to each element of the 'title' column\n",
    "    df[\"Embedding\"] = df[\"title\"].apply(calculate_text_embedding)\n",
    "    \n",
    "    # Drop rows with missing embeddings\n",
    "    df.dropna(subset=[\"Embedding\"], inplace=True)\n",
    "    \n",
    "    return df"
   ]
  },
  {
   "cell_type": "code",
   "execution_count": null,
   "id": "8940c392",
   "metadata": {},
   "outputs": [],
   "source": [
    "df_subset1 = calculate_df(df_subset1)"
   ]
  },
  {
   "cell_type": "code",
   "execution_count": null,
   "id": "bec67e11",
   "metadata": {},
   "outputs": [],
   "source": [
    "df_subset2 = calculate_df(df_subset2)"
   ]
  },
  {
   "cell_type": "code",
   "execution_count": null,
   "id": "dcafd410",
   "metadata": {},
   "outputs": [],
   "source": [
    "df_subset3 = calculate_df(df_subset3)"
   ]
  },
  {
   "cell_type": "code",
   "execution_count": null,
   "id": "802671ef",
   "metadata": {},
   "outputs": [],
   "source": [
    "df_subset4 = calculate_df(df_subset4)"
   ]
  },
  {
   "cell_type": "code",
   "execution_count": null,
   "id": "2d7078a1",
   "metadata": {},
   "outputs": [],
   "source": [
    "df_subset5 = calculate_df(df_subset5)"
   ]
  },
  {
   "cell_type": "markdown",
   "id": "7f67a0a6",
   "metadata": {},
   "source": [
    "#### Cleaning up embedded texts with errors."
   ]
  },
  {
   "cell_type": "code",
   "execution_count": null,
   "id": "97bd5806",
   "metadata": {},
   "outputs": [],
   "source": [
    "import numpy as np\n",
    "\n",
    "def filter_embeddings(df):\n",
    "    # Remove rows with empty embeddings\n",
    "    df = df.dropna(subset=[\"Embedding\"])\n",
    "    \n",
    "    # Remove rows with non-(512,) embeddings\n",
    "    df = df[df['Embedding'].apply(lambda x: isinstance(x, list) and np.array(x).shape == (512,))]\n",
    "    \n",
    "    return df"
   ]
  },
  {
   "cell_type": "code",
   "execution_count": null,
   "id": "396df182",
   "metadata": {},
   "outputs": [],
   "source": [
    "# Make sure to change the df_subset number accordingly.\n",
    "# If the dataset was separated like given example, the df_subset would be 1-5.\n",
    "df_subset1 = filter_embeddings(df_subset1)"
   ]
  },
  {
   "cell_type": "markdown",
   "id": "18d45034",
   "metadata": {},
   "source": [
    "#### Creation of text collection"
   ]
  },
  {
   "cell_type": "code",
   "execution_count": null,
   "id": "4f0b507b",
   "metadata": {},
   "outputs": [],
   "source": [
    "from qdrant_client import QdrantClient\n",
    "from qdrant_client.http import models as rest\n",
    "from qdrant_client.models import VectorParams, Distance\n",
    "\n",
    "# The url for the Qdrant cluster is wrong if it starts like \"https://node...\"\n",
    "qdrant_client = QdrantClient(\n",
    "     url=\"<--URL-->\", \n",
    "    api_key=\"<--API_KEY-->\",\n",
    ")"
   ]
  },
  {
   "cell_type": "code",
   "execution_count": null,
   "id": "8fa2fc18",
   "metadata": {},
   "outputs": [],
   "source": [
    "collection_name = \"<--name of colleciton-->\"\n",
    "vectors_config = rest.VectorParams(size=512, distance=rest.Distance.COSINE)\n",
    "\n",
    "# Here, we use \".recreate_collection\" which overrwites existing collection with same same. Caution when executing.\n",
    "# Use \".create_collection\" instead to avoid overrwiting.\n",
    "try:\n",
    "    qdrant_client.recreate_collection(\n",
    "        collection_name=collection_name,\n",
    "        vectors_config=vectors_config,\n",
    "    )\n",
    "    print(f\"Collection '{collection_name}' created successfully.\")\n",
    "except Exception as e:\n",
    "    print(f\"Error creating collection: {e}\")\n"
   ]
  },
  {
   "cell_type": "code",
   "execution_count": null,
   "id": "9033aa17",
   "metadata": {},
   "outputs": [],
   "source": [
    "def img_payload(df):\n",
    "    payloads = df[[\"asin\", \"title\", \"price\"]] \\\n",
    "        .fillna(\"Unknown\") \\\n",
    "        .rename(columns={\"id\": \"ID\", \n",
    "                         \"product title\": \"Decription\", \n",
    "                         \"price\": \"Price\"}) \\\n",
    "        .to_dict(\"records\")\n",
    "    return payloads"
   ]
  },
  {
   "cell_type": "code",
   "execution_count": null,
   "id": "e597a847",
   "metadata": {},
   "outputs": [],
   "source": [
    "import uuid \n",
    "def upload_coll(df, payloads):\n",
    "    df.reset_index(drop=True, inplace=True)\n",
    "    \n",
    "    qdrant_client.upload_collection(\n",
    "        collection_name=\"<--name of colleciton-->\",\n",
    "        vectors=list(map(list, df[\"Embedding\"].tolist())),\n",
    "        payload=payloads,\n",
    "        ids=[uuid.uuid4().hex for _ in payloads],\n",
    "    )"
   ]
  },
  {
   "cell_type": "code",
   "execution_count": null,
   "id": "431acb83",
   "metadata": {},
   "outputs": [],
   "source": [
    "# Make sure to change the df_subset number accordingly.\n",
    "# If the dataset was separated like given example, the df_subset would be 1-5.\n",
    "pay = img_payload(df_subset1)\n",
    "upload_coll(df_subset1, pay)"
   ]
  },
  {
   "cell_type": "code",
   "execution_count": null,
   "id": "6882b21b",
   "metadata": {},
   "outputs": [],
   "source": [
    "# Run this cell to confirm how many products are in the collection.\n",
    "qdrant_client.count(\"<--name of colleciton-->\")"
   ]
  }
 ],
 "metadata": {
  "kernelspec": {
   "display_name": "Python 3 (ipykernel)",
   "language": "python",
   "name": "python3"
  },
  "language_info": {
   "codemirror_mode": {
    "name": "ipython",
    "version": 3
   },
   "file_extension": ".py",
   "mimetype": "text/x-python",
   "name": "python",
   "nbconvert_exporter": "python",
   "pygments_lexer": "ipython3",
   "version": "3.11.5"
  }
 },
 "nbformat": 4,
 "nbformat_minor": 5
}
